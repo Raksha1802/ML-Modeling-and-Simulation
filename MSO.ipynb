{
  "nbformat": 4,
  "nbformat_minor": 0,
  "metadata": {
    "colab": {
      "name": "Modeling_Simulation1.ipynb",
      "provenance": [],
      "collapsed_sections": []
    },
    "kernelspec": {
      "name": "python3",
      "display_name": "Python 3"
    },
    "accelerator": "GPU"
  },
  "cells": [
    {
      "cell_type": "markdown",
      "metadata": {
        "id": "e_s-yVRAQjLm",
        "colab_type": "text"
      },
      "source": [
        "### Modeling, Simulation and Optimization Project\n",
        "Raksha Prakasha\n",
        "\n",
        ]
    },
    {
      "cell_type": "markdown",
      "metadata": {
        "id": "D74mwOt_RNhJ",
        "colab_type": "text"
      },
      "source": [
        "## Loading the Libraraies to Carry out Simulation\n",
        "\n",
        "Python simpy package is used to carry out simulation"
      ]
    },
    {
      "cell_type": "code",
      "metadata": {
        "id": "m7fTeU_OzMGP",
        "colab_type": "code",
        "colab": {
          "base_uri": "https://localhost:8080/",
          "height": 85
        },
        "outputId": "99444033-d537-42be-b67e-fb12768d2269"
      },
      "source": [
        "pip install simpy"
      ],
      "execution_count": 2,
      "outputs": [
        {
          "output_type": "stream",
          "text": [
            "Collecting simpy\n",
            "  Downloading https://files.pythonhosted.org/packages/20/f9/874b0bab83406827db93292a5bbe5acb5c18e3cea665b2f6e053292cb687/simpy-4.0.1-py2.py3-none-any.whl\n",
            "Installing collected packages: simpy\n",
            "Successfully installed simpy-4.0.1\n"
          ],
          "name": "stdout"
        }
      ]
    },
    {
      "cell_type": "code",
      "metadata": {
        "id": "Wv01yVpIzou3",
        "colab_type": "code",
        "colab": {}
      },
      "source": [
        "import simpy\n",
        "import random\n",
        "import pandas as pd\n",
        "import numpy as np\n",
        "import matplotlib.pyplot as plt\n",
        "from scipy.optimize import minimize\n",
        "from time import sleep"
      ],
      "execution_count": 3,
      "outputs": []
    },
    {
      "cell_type": "markdown",
      "metadata": {
        "id": "98Kp-0mPRiZX",
        "colab_type": "text"
      },
      "source": [
        "## Creating DataFrame"
      ]
    },
    {
      "cell_type": "code",
      "metadata": {
        "id": "8iMAmba4zrd0",
        "colab_type": "code",
        "colab": {
          "base_uri": "https://localhost:8080/",
          "height": 77
        },
        "outputId": "8c030aef-1ee4-4032-957a-73a1df51896f"
      },
      "source": [
        "data = pd.DataFrame(columns=['FROM', 'TO', 'TIME_SEC', 'BLOCKS', 'DISTANCE'])\n",
        "\n",
        "data_records = [ pd.Series(['London Old Oak', 'Birmingham Interchange', 'NA', 'NA', 145000], index=data.columns )]\n",
        "\n",
        "data = data.append(data_records, ignore_index=True)\n",
        "\n",
        "data"
      ],
      "execution_count": 4,
      "outputs": [
        {
          "output_type": "execute_result",
          "data": {
            "text/html": [
              "<div>\n",
              "<style scoped>\n",
              "    .dataframe tbody tr th:only-of-type {\n",
              "        vertical-align: middle;\n",
              "    }\n",
              "\n",
              "    .dataframe tbody tr th {\n",
              "        vertical-align: top;\n",
              "    }\n",
              "\n",
              "    .dataframe thead th {\n",
              "        text-align: right;\n",
              "    }\n",
              "</style>\n",
              "<table border=\"1\" class=\"dataframe\">\n",
              "  <thead>\n",
              "    <tr style=\"text-align: right;\">\n",
              "      <th></th>\n",
              "      <th>FROM</th>\n",
              "      <th>TO</th>\n",
              "      <th>TIME_SEC</th>\n",
              "      <th>BLOCKS</th>\n",
              "      <th>DISTANCE</th>\n",
              "    </tr>\n",
              "  </thead>\n",
              "  <tbody>\n",
              "    <tr>\n",
              "      <th>0</th>\n",
              "      <td>London Old Oak</td>\n",
              "      <td>Birmingham Interchange</td>\n",
              "      <td>NA</td>\n",
              "      <td>NA</td>\n",
              "      <td>145000</td>\n",
              "    </tr>\n",
              "  </tbody>\n",
              "</table>\n",
              "</div>"
            ],
            "text/plain": [
              "             FROM                      TO TIME_SEC BLOCKS DISTANCE\n",
              "0  London Old Oak  Birmingham Interchange       NA     NA   145000"
            ]
          },
          "metadata": {
            "tags": []
          },
          "execution_count": 4
        }
      ]
    },
    {
      "cell_type": "markdown",
      "metadata": {
        "id": "HIsgMEMgR5ng",
        "colab_type": "text"
      },
      "source": [
        "Defining Utility Functions to carry out value calculation,etc through out the simulation process"
      ]
    },
    {
      "cell_type": "code",
      "metadata": {
        "id": "jI3VmqgRzs3G",
        "colab_type": "code",
        "colab": {}
      },
      "source": [
        "#To convert distance from meter to Kilometer\n",
        "def m_to_km(x):\n",
        "  return round(x/1000, 1)\n",
        "\n",
        "#To formate Time in HH:mm:ss\n",
        "def hhmmss(t):\n",
        "  t=int(t)\n",
        "  return f\"{t//3600:02d}:{(t%3600)//60:02d}:{t%60:02d}\"\n",
        "\n",
        "#To convert time from sec scale to min\n",
        "def s_to_m(t):\n",
        "  return round(t/60,2)\n",
        "  \n",
        "def get_sec(time_str):\n",
        "    \"\"\"Get Seconds from time.\"\"\"\n",
        "    h, m, s = time_str.split(':')\n",
        "    return int(h) * 3600 + int(m) * 60 + int(s)\n",
        "    \n",
        "def getTravelTimeDistance(a, v):\n",
        "    t = round(v/a,1)\n",
        "    d = round((a*t*t)/2)\n",
        "    # print(\"timee\",t)\n",
        "    return [t, d]\n",
        "\n",
        "def getTravelTime(s, d):\n",
        "    t = round(d/s, 1)\n",
        "    # print(\"TravelTime\",t)\n",
        "    return t\n",
        "\n",
        "def getTravelDistance(s, t):\n",
        "    d = round(s*t)\n",
        "    return d"
      ],
      "execution_count": null,
      "outputs": []
    },
    {
      "cell_type": "markdown",
      "metadata": {
        "id": "Hc3BuGxrSVYw",
        "colab_type": "text"
      },
      "source": [
        "\n",
        "Class Train() is created to handle data/information regarding the moving train and their individual train objects."
      ]
    },
    {
      "cell_type": "code",
      "metadata": {
        "id": "PtqG-bL0zw6J",
        "colab_type": "code",
        "colab": {}
      },
      "source": [
        "class Train(object):\n",
        "  def __init__(self, train_num):\n",
        "    self.number = train_num\n",
        "    self.pos = 0\n",
        "    self.traveled_distance = 0\n",
        "    self.start_time = 0\n",
        "    self.end_time = 0\n",
        "    self.travel_time = 0\n",
        "    self.wait_time = 0\n",
        "    self.incident_resol_time = 30\n",
        "    self.incident_status = False\n",
        "    self.incident_number = 0"
      ],
      "execution_count": null,
      "outputs": []
    },
    {
      "cell_type": "markdown",
      "metadata": {
        "id": "V8Ap5Ik0SuoM",
        "colab_type": "text"
      },
      "source": [
        "Class Network() is created to handle movement of trains and signal blocks(pre)."
      ]
    },
    {
      "cell_type": "code",
      "metadata": {
        "id": "Faw5DMtLz3KF",
        "colab_type": "code",
        "colab": {}
      },
      "source": [
        "class Network(object):\n",
        "  def __init__(self, num_of_blocks, num_of_trains,induce_winds, pass_dwell):\n",
        "    self.data = data\n",
        "    \n",
        "    self.st23_num_of_blocks = num_of_blocks\n",
        "    self.st23_block_length = round(data.loc[0][4]/num_of_blocks,1)\n",
        "    self.block_list = [0]*(num_of_blocks)\n",
        "    self.num_ip_trains = num_of_trains\n",
        "    self.train_count = 0\n",
        "    self.total_trains = 0\n",
        "    self.winds = induce_winds\n",
        "    self.dwell = pass_dwell\n",
        "    self.broken = False\n",
        "\n",
        "  def signal_control(self):\n",
        "    #global block_list\n",
        "    if self.train_count < self.num_ip_trains and self.block_list[0] == 0:  \n",
        "      return True\n",
        "    else:\n",
        "      return False\n",
        "  \n",
        "\n",
        "  def new_train(self, train_num):\n",
        "    return Train(train_num)\n",
        "  \n",
        "  def strong_weather_impact(self):\n",
        "    if self.winds == 1:\n",
        "      mu, sigma =   3.378, 0.75 # mean and standard deviation\n",
        "      s = np.random.lognormal(mu, sigma, 1)\n",
        "      st_i = round(s[0]) \n",
        "      # print(\"st winds\", st_i) \n",
        "      return st_i #increase in travel time using log normal distribution function                 ##Variation due to bad weather, the delay results to future delay of further trains\n",
        "    else:\n",
        "      return 0\n",
        "\n",
        "  def dwell_time(self):\n",
        "    if self.dwell == 1:\n",
        "      return random.randint(10,20) #increase in travel time by 1.5 * value in scale             ## variation due to passanger onboarding, the results affects travek time of the current train only  \n",
        "    else:\n",
        "      return 0       "
      ],
      "execution_count": null,
      "outputs": []
    },
    {
      "cell_type": "markdown",
      "metadata": {
        "id": "FiDO0FZETXnM",
        "colab_type": "text"
      },
      "source": [
        "update_train_state() function records the information of each trains travelling for every iteration and updates its current position and travelling time"
      ]
    },
    {
      "cell_type": "code",
      "metadata": {
        "id": "rypN8BECz6zP",
        "colab_type": "code",
        "colab": {}
      },
      "source": [
        "def update_train_status(env, t):\n",
        "    global trains_list\n",
        "\n",
        "    t.end_time = env.now\n",
        "    t.travel_time = env.now - t.start_time\n",
        "    trains_list[t.number-1] == t"
      ],
      "execution_count": null,
      "outputs": []
    },
    {
      "cell_type": "markdown",
      "metadata": {
        "id": "ZZp5sOInTmvX",
        "colab_type": "text"
      },
      "source": [
        "Global Constants defined"
      ]
    },
    {
      "cell_type": "code",
      "metadata": {
        "id": "rVTAhJu9z8Kz",
        "colab_type": "code",
        "colab": {}
      },
      "source": [
        "#Global Constants\n",
        "\n",
        "MAX_VELOCITY = 83.3 #m/s\n",
        "ACCELERATION = 0.72 #m/s^2\n",
        "DECELERATION = 0.38 #m/s^2\n",
        "GRN_SIGNAL_AFT_EXIT = 5 #sec\n",
        "TIME = 0\n",
        "\n",
        "#Global DataFrame is created to store the information of moving trains\n",
        "m_train = pd.DataFrame(columns= ['TRAIN', 'STATUS', 'STATION', 'TIME'])\n",
        "#Global Trains List\n",
        "trains_list = []"
      ],
      "execution_count": null,
      "outputs": []
    },
    {
      "cell_type": "markdown",
      "metadata": {
        "id": "kdLq1IusWbiG",
        "colab_type": "text"
      },
      "source": [
        ""
      ]
    },
    {
      "cell_type": "markdown",
      "metadata": {
        "id": "vMBf9pwFUv50",
        "colab_type": "text"
      },
      "source": [
        "\n",
        "**run() function is the major process of the simulation and  encaptures coding logic for controlling the movement of trains. It includes the logic:**\n",
        "\n",
        "\n",
        "Variability of movement of passengers/dwell\\_time() is added when Train leaving London Old Oak Commons Station.\n",
        "\n",
        "Variability of bad weather/ strong\\_weather\\_impact() is added for trains between London Old Oak to Birmingham Interchange stations, which will affect the movement/travel\\_time of a train and schedules of future trains too.\n",
        "\n",
        "Trains travelling check for 2 subsequent signals, if green, before entering the next block. If it doesn't get 2 green signal it waits for train ahead to pass"
      ]
    },
    {
      "cell_type": "code",
      "metadata": {
        "id": "ee0Xto9IF_rg",
        "colab_type": "code",
        "colab": {}
      },
      "source": [
        "\n",
        "def run( hs, t):\n",
        "  \n",
        "  global TIME\n",
        "\n",
        "  global m_train \n",
        "  while t.pos < len(hs.block_list):\n",
        "    try:  \n",
        "      update_train_status(env, t)\n",
        "      ########################### travelling between  London Old Oak Commons  - Birmingham Interchange #################################\n",
        "      if t.pos == 0:                                                  \n",
        "\n",
        "        time, distance = getTravelTimeDistance(ACCELERATION,MAX_VELOCITY)                                  \n",
        "        time += getTravelTime(MAX_VELOCITY,hs.st23_block_length - distance)\n",
        "        a_time = TIME\n",
        "        wait = hs.dwell_time()                                                 \n",
        "        t.wait_time += wait\n",
        "        yield env.timeout(wait)\n",
        "\n",
        "        hs.block_list[t.pos] = t.number\n",
        "        record = {'TRAIN':t.number, 'STATUS':'DEPARTED', 'STATION':'LONDON OLD OAK', 'TIME':hhmmss(TIME+env.now)} \n",
        "        m_train = m_train.append(record, ignore_index=True)\n",
        "        yield env.timeout(GRN_SIGNAL_AFT_EXIT)  \n",
        "        update_train_status(env, t)\n",
        "\n",
        "        t.pos += 1\n",
        "\n",
        "        time = getTravelTime(MAX_VELOCITY,hs.st23_block_length)  \n",
        "        delay = hs.strong_weather_impact()                                          \n",
        "        # time += delay                                                     #Impack of Extrenal factor like bad weather is introduced, affecting the time of current and future trains\n",
        "        t.wait_time += delay                                              #is introduced, affecting speed of train\n",
        "        yield env.timeout(wait)\n",
        "\n",
        "      elif t.pos >= 1 and t.pos < hs.st23_num_of_blocks:\n",
        "    \n",
        "        hs.block_list[t.pos-1] = 0 \n",
        "        hs.block_list[t.pos] = t.number                                                                              \n",
        "        yield env.timeout(time + GRN_SIGNAL_AFT_EXIT) \n",
        "\n",
        "        update_train_status(env, t)\n",
        "\n",
        "        t.pos += 1\n",
        "\n",
        "        if t.pos == hs.st23_num_of_blocks:    \n",
        "          time, distance = getTravelTimeDistance(DECELERATION,MAX_VELOCITY)\n",
        "          time += getTravelTime(MAX_VELOCITY, hs.st23_block_length - distance)\n",
        "          \n",
        "          hs.block_list[t.pos-1] = t.number\n",
        "          yield env.timeout(time) \n",
        "          update_train_status(env, t)\n",
        "          record1 = {'TRAIN':t.number, 'STATUS':'ARRIVED', 'STATION':'BIRMINGHAM INTERCHANGE', 'TIME':hhmmss(env.now+a_time)} \n",
        "          m_train = m_train.append(record1, ignore_index=True)\n",
        "          hs.block_list[t.pos-1] = 0\n",
        "          update_train_status(env, t)\n",
        "      else:\n",
        "          yield env.timeout(1)                                                                                     #Inner clock  \n",
        "\n",
        "    except simpy.Interrupt:\n",
        "      yield self.env.timeout(30)            "
      ],
      "execution_count": null,
      "outputs": []
    },
    {
      "cell_type": "markdown",
      "metadata": {
        "id": "JueMy0s8XmGp",
        "colab_type": "text"
      },
      "source": [
        "delay() function is used to induce the temporary breakdown due to electrical\n",
        "malfunction of the 9am train from London to Birmingham. It takes 30 minutes to fix the\n",
        "problem."
      ]
    },
    {
      "cell_type": "code",
      "metadata": {
        "id": "oGwSk9etSZ4O",
        "colab_type": "code",
        "colab": {}
      },
      "source": [
        "def delay(hs, t):                                 # inducing a temporary break down due to electrical\n",
        "                                                  # malfunction of the 9am train from London to Birmingham. It takes 30 minutes to fix the\n",
        "                                                  # problem.\n",
        "                                                    \n",
        "  global TIME\n",
        "\n",
        "  # print(env.now > 32400 and env.now < 32690 ) \n",
        "  # print(\"time not updated\", TIME)\n",
        "  if (env.now > 32400 and env.now < 32690 ):\n",
        "    # print(\"time updated\")\n",
        "    TIME = TIME + 1800\n",
        "  else:\n",
        "    yield env.timeout(5*60)  \n",
        "\n",
        "  yield env.timeout(1)\n"
      ],
      "execution_count": null,
      "outputs": []
    },
    {
      "cell_type": "markdown",
      "metadata": {
        "id": "YQnN_TZEXrTC",
        "colab_type": "text"
      },
      "source": [
        "train_simulation() process is called to handle the entry of new train into Network, new run() process is called every time a new train is created."
      ]
    },
    {
      "cell_type": "code",
      "metadata": {
        "id": "NUYoMVjB0Irf",
        "colab_type": "code",
        "colab": {}
      },
      "source": [
        "def train_simulation(hs,incident):\n",
        "  print('Simulation Running...',f'\\nFor {len(hs.block_list)} blocks and {hs.num_ip_trains} input trains', \n",
        "        f'each block between LONDON OLD OAK and BIRMINGHAM INTERCHANGE is {m_to_km(hs.st23_block_length)} km in length.')\n",
        "  \n",
        "  global trains_list\n",
        "  global m_train \n",
        "  global env\n",
        "  trains_list = []  \n",
        "  m_train.drop(m_train.index, inplace=True)\n",
        "  # print(\"incident\", incident)\n",
        "  while True:\n",
        "    if hs.signal_control():                             # Check for green signal before starting new train\n",
        "      hs.train_count += 1\n",
        "      train = hs.new_train(hs.train_count)              # creating new train object\n",
        "      train.start_time = env.now\n",
        "      trains_list.append(train)\n",
        "      env.process(run(hs, train))\n",
        "      yield env.timeout(5*60)                 # Start new train process  \n",
        "      env.process(delay(hs, train))           # Induce Breakdown of 9am train        \n",
        "                         \n",
        "\n",
        "    yield env.timeout(10)           "
      ],
      "execution_count": null,
      "outputs": []
    },
    {
      "cell_type": "markdown",
      "metadata": {
        "id": "uhP9UNPHX1Cf",
        "colab_type": "text"
      },
      "source": [
        "\n",
        "main() function validates the input, sets environment for simulation and start and end time for simulation."
      ]
    },
    {
      "cell_type": "code",
      "metadata": {
        "id": "vPoAvq_c0CUQ",
        "colab_type": "code",
        "colab": {}
      },
      "source": [
        "def main(num_of_blocks,num_of_trains,induce_winds, pass_dwell, start_time, end_time,incident):\n",
        "  global env\n",
        "  #create class object\n",
        "  hs = Network(num_of_blocks, num_of_trains,int(induce_winds), int(pass_dwell))\n",
        "  #Setup enviornment\n",
        "  env = simpy.Environment(initial_time = start_time )\n",
        "  # if incident == 1:\n",
        "  #initiate simulation\n",
        "  env.process(train_simulation(hs,incident))\n",
        "  #run until 3 hr (3600 sec)\n",
        "  env.run(until = end_time)"
      ],
      "execution_count": null,
      "outputs": []
    },
    {
      "cell_type": "markdown",
      "metadata": {
        "id": "Mf_Jwe1HYGqX",
        "colab_type": "text"
      },
      "source": [
        "Running Simulation for \"k\" number of blocks and \"n\" number of trains with variability of bad weather and passenger dwell time introduces. Additionally breakdown of 9 am train because of technical issue  \n",
        "\n",
        "The start_time and end_time of the simulation is also passed to the main() function"
      ]
    },
    {
      "cell_type": "code",
      "metadata": {
        "id": "sy2t1pEU0P7q",
        "colab_type": "code",
        "colab": {
          "base_uri": "https://localhost:8080/",
          "height": 119
        },
        "outputId": "f915b1d0-34a0-4f4a-db83-0238427511cf"
      },
      "source": [
        "n_blocks = input('Enter number of blocks to be laid between (London Old Oak - Brimingham Interchange) line of 145 km = \\n')\n",
        "n_trains = input('Enter number of train = \\n')\n",
        "\n",
        "#Validating input\n",
        "global TIME\n",
        "\n",
        "TIME = 0\n",
        "\n",
        "params = [n_blocks, n_trains]\n",
        "if all(str(i).isdigit() and int(i)>0 for i in params):                    #Check is values are digit and greater than 0\n",
        "  n_blocks, n_trains = [int(x) for x in params]\n",
        "else:\n",
        "  print('Default, Simulation starts with 10 Block and 10 Trains')\n",
        "  n_blocks, n_trains = 10,10\n",
        "\n",
        "# if int(winds) and int(pass_dwell) and int(incident) in [0,1]:                                                   #Checks choice for wind variablity entered is correct\n",
        "#   if int(winds) and int(pass_dwell) and int(incident) == 1:\n",
        "#     print(\"\\n***Variablity in speed of trains due to WIND and Passanger Movement and Breakdown by incident is induced in simulation\\n\\n\")\n",
        "# else: \n",
        "#   winds, pass_dwell,incident = 0, 0  \n",
        "# print(\"TIMEe\", TIME)\n",
        "if __name__ == \"__main__\":\n",
        "  main(n_blocks, n_trains,1,1, 30600,39600,1) "
      ],
      "execution_count": null,
      "outputs": [
        {
          "output_type": "stream",
          "text": [
            "Enter number of blocks to be laid between (London Old Oak - Brimingham Interchange) line of 145 km = \n",
            "14\n",
            "Enter number of train = \n",
            "10\n",
            "Simulation Running... \n",
            "For 14 blocks and 10 input trains each block between LONDON OLD OAK and BIRMINGHAM INTERCHANGE is 10.4 km in length.\n"
          ],
          "name": "stdout"
        }
      ]
    },
    {
      "cell_type": "markdown",
      "metadata": {
        "id": "rIgMpZ3lZqZk",
        "colab_type": "text"
      },
      "source": [
        "# Verification of Simulation Results"
      ]
    },
    {
      "cell_type": "markdown",
      "metadata": {
        "id": "47xDPVEVZwNK",
        "colab_type": "text"
      },
      "source": [
        "Dataframe shows the results of the simulation when the number of blocks are 14 and train number is 10."
      ]
    },
    {
      "cell_type": "code",
      "metadata": {
        "id": "WFb3-RHv2sJd",
        "colab_type": "code",
        "colab": {
          "base_uri": "https://localhost:8080/",
          "height": 669
        },
        "outputId": "64b103dc-4980-4520-972b-39769a65b53b"
      },
      "source": [
        "m_train "
      ],
      "execution_count": null,
      "outputs": [
        {
          "output_type": "execute_result",
          "data": {
            "text/html": [
              "<div>\n",
              "<style scoped>\n",
              "    .dataframe tbody tr th:only-of-type {\n",
              "        vertical-align: middle;\n",
              "    }\n",
              "\n",
              "    .dataframe tbody tr th {\n",
              "        vertical-align: top;\n",
              "    }\n",
              "\n",
              "    .dataframe thead th {\n",
              "        text-align: right;\n",
              "    }\n",
              "</style>\n",
              "<table border=\"1\" class=\"dataframe\">\n",
              "  <thead>\n",
              "    <tr style=\"text-align: right;\">\n",
              "      <th></th>\n",
              "      <th>TRAIN</th>\n",
              "      <th>STATUS</th>\n",
              "      <th>STATION</th>\n",
              "      <th>TIME</th>\n",
              "    </tr>\n",
              "  </thead>\n",
              "  <tbody>\n",
              "    <tr>\n",
              "      <th>0</th>\n",
              "      <td>1</td>\n",
              "      <td>DEPARTED</td>\n",
              "      <td>LONDON OLD OAK</td>\n",
              "      <td>08:30:12</td>\n",
              "    </tr>\n",
              "    <tr>\n",
              "      <th>1</th>\n",
              "      <td>2</td>\n",
              "      <td>DEPARTED</td>\n",
              "      <td>LONDON OLD OAK</td>\n",
              "      <td>08:35:28</td>\n",
              "    </tr>\n",
              "    <tr>\n",
              "      <th>2</th>\n",
              "      <td>3</td>\n",
              "      <td>DEPARTED</td>\n",
              "      <td>LONDON OLD OAK</td>\n",
              "      <td>08:40:39</td>\n",
              "    </tr>\n",
              "    <tr>\n",
              "      <th>3</th>\n",
              "      <td>4</td>\n",
              "      <td>DEPARTED</td>\n",
              "      <td>LONDON OLD OAK</td>\n",
              "      <td>08:45:44</td>\n",
              "    </tr>\n",
              "    <tr>\n",
              "      <th>4</th>\n",
              "      <td>5</td>\n",
              "      <td>DEPARTED</td>\n",
              "      <td>LONDON OLD OAK</td>\n",
              "      <td>08:50:59</td>\n",
              "    </tr>\n",
              "    <tr>\n",
              "      <th>5</th>\n",
              "      <td>6</td>\n",
              "      <td>DEPARTED</td>\n",
              "      <td>LONDON OLD OAK</td>\n",
              "      <td>08:56:05</td>\n",
              "    </tr>\n",
              "    <tr>\n",
              "      <th>6</th>\n",
              "      <td>7</td>\n",
              "      <td>DEPARTED</td>\n",
              "      <td>LONDON OLD OAK</td>\n",
              "      <td>09:31:10</td>\n",
              "    </tr>\n",
              "    <tr>\n",
              "      <th>7</th>\n",
              "      <td>1</td>\n",
              "      <td>ARRIVED</td>\n",
              "      <td>BIRMINGHAM INTERCHANGE</td>\n",
              "      <td>09:02:23</td>\n",
              "    </tr>\n",
              "    <tr>\n",
              "      <th>8</th>\n",
              "      <td>8</td>\n",
              "      <td>DEPARTED</td>\n",
              "      <td>LONDON OLD OAK</td>\n",
              "      <td>09:36:21</td>\n",
              "    </tr>\n",
              "    <tr>\n",
              "      <th>9</th>\n",
              "      <td>2</td>\n",
              "      <td>ARRIVED</td>\n",
              "      <td>BIRMINGHAM INTERCHANGE</td>\n",
              "      <td>09:07:45</td>\n",
              "    </tr>\n",
              "    <tr>\n",
              "      <th>10</th>\n",
              "      <td>9</td>\n",
              "      <td>DEPARTED</td>\n",
              "      <td>LONDON OLD OAK</td>\n",
              "      <td>09:41:38</td>\n",
              "    </tr>\n",
              "    <tr>\n",
              "      <th>11</th>\n",
              "      <td>3</td>\n",
              "      <td>ARRIVED</td>\n",
              "      <td>BIRMINGHAM INTERCHANGE</td>\n",
              "      <td>09:12:57</td>\n",
              "    </tr>\n",
              "    <tr>\n",
              "      <th>12</th>\n",
              "      <td>10</td>\n",
              "      <td>DEPARTED</td>\n",
              "      <td>LONDON OLD OAK</td>\n",
              "      <td>09:46:42</td>\n",
              "    </tr>\n",
              "    <tr>\n",
              "      <th>13</th>\n",
              "      <td>4</td>\n",
              "      <td>ARRIVED</td>\n",
              "      <td>BIRMINGHAM INTERCHANGE</td>\n",
              "      <td>09:17:57</td>\n",
              "    </tr>\n",
              "    <tr>\n",
              "      <th>14</th>\n",
              "      <td>5</td>\n",
              "      <td>ARRIVED</td>\n",
              "      <td>BIRMINGHAM INTERCHANGE</td>\n",
              "      <td>09:23:17</td>\n",
              "    </tr>\n",
              "    <tr>\n",
              "      <th>15</th>\n",
              "      <td>6</td>\n",
              "      <td>ARRIVED</td>\n",
              "      <td>BIRMINGHAM INTERCHANGE</td>\n",
              "      <td>09:28:19</td>\n",
              "    </tr>\n",
              "    <tr>\n",
              "      <th>16</th>\n",
              "      <td>7</td>\n",
              "      <td>ARRIVED</td>\n",
              "      <td>BIRMINGHAM INTERCHANGE</td>\n",
              "      <td>10:03:19</td>\n",
              "    </tr>\n",
              "    <tr>\n",
              "      <th>17</th>\n",
              "      <td>8</td>\n",
              "      <td>ARRIVED</td>\n",
              "      <td>BIRMINGHAM INTERCHANGE</td>\n",
              "      <td>10:08:31</td>\n",
              "    </tr>\n",
              "    <tr>\n",
              "      <th>18</th>\n",
              "      <td>9</td>\n",
              "      <td>ARRIVED</td>\n",
              "      <td>BIRMINGHAM INTERCHANGE</td>\n",
              "      <td>10:13:55</td>\n",
              "    </tr>\n",
              "    <tr>\n",
              "      <th>19</th>\n",
              "      <td>10</td>\n",
              "      <td>ARRIVED</td>\n",
              "      <td>BIRMINGHAM INTERCHANGE</td>\n",
              "      <td>10:18:53</td>\n",
              "    </tr>\n",
              "  </tbody>\n",
              "</table>\n",
              "</div>"
            ],
            "text/plain": [
              "   TRAIN    STATUS                 STATION      TIME\n",
              "0      1  DEPARTED          LONDON OLD OAK  08:30:12\n",
              "1      2  DEPARTED          LONDON OLD OAK  08:35:28\n",
              "2      3  DEPARTED          LONDON OLD OAK  08:40:39\n",
              "3      4  DEPARTED          LONDON OLD OAK  08:45:44\n",
              "4      5  DEPARTED          LONDON OLD OAK  08:50:59\n",
              "5      6  DEPARTED          LONDON OLD OAK  08:56:05\n",
              "6      7  DEPARTED          LONDON OLD OAK  09:31:10\n",
              "7      1   ARRIVED  BIRMINGHAM INTERCHANGE  09:02:23\n",
              "8      8  DEPARTED          LONDON OLD OAK  09:36:21\n",
              "9      2   ARRIVED  BIRMINGHAM INTERCHANGE  09:07:45\n",
              "10     9  DEPARTED          LONDON OLD OAK  09:41:38\n",
              "11     3   ARRIVED  BIRMINGHAM INTERCHANGE  09:12:57\n",
              "12    10  DEPARTED          LONDON OLD OAK  09:46:42\n",
              "13     4   ARRIVED  BIRMINGHAM INTERCHANGE  09:17:57\n",
              "14     5   ARRIVED  BIRMINGHAM INTERCHANGE  09:23:17\n",
              "15     6   ARRIVED  BIRMINGHAM INTERCHANGE  09:28:19\n",
              "16     7   ARRIVED  BIRMINGHAM INTERCHANGE  10:03:19\n",
              "17     8   ARRIVED  BIRMINGHAM INTERCHANGE  10:08:31\n",
              "18     9   ARRIVED  BIRMINGHAM INTERCHANGE  10:13:55\n",
              "19    10   ARRIVED  BIRMINGHAM INTERCHANGE  10:18:53"
            ]
          },
          "metadata": {
            "tags": []
          },
          "execution_count": 40
        }
      ]
    },
    {
      "cell_type": "markdown",
      "metadata": {
        "id": "e3JsLRlraGU5",
        "colab_type": "text"
      },
      "source": [
        "build_train_summary() creates the summary to all trains that entered into Network"
      ]
    },
    {
      "cell_type": "code",
      "metadata": {
        "id": "PNyWOORI2z9g",
        "colab_type": "code",
        "colab": {}
      },
      "source": [
        "train_summary = pd.DataFrame(columns=['TRAIN','POSITION','TRAVEL_TIME', 'WAIT_TIME'])\n",
        "travel_time = pd.DataFrame(columns=['TRAIN','TRAVEL_TIME','DELAY_TIME','POSITION'])\n",
        "\n",
        "def build_train_summary(trains_list):\n",
        "  global train_summary\n",
        "  # print((t.number))\n",
        "  global travel_time\n",
        "  train_summary.drop(train_summary.index, inplace=True)\n",
        "  for t in trains_list:\n",
        "    if t.pos > 1:\n",
        "      \n",
        "      dep = m_train.TIME[(m_train.STATUS == 'DEPARTED') & (m_train.TRAIN == t.number)].apply(get_sec)\n",
        "      arr = m_train.TIME[(m_train.STATUS == 'ARRIVED') & (m_train.TRAIN == t.number)].apply(get_sec)\n",
        "      a = arr.values[0] - dep.values[0]\n",
        "      t.travel_time = abs(a+t.wait_time) \n",
        "      rec = {'TRAIN': t.number,'TRAVEL_TIME': t.travel_time,'DELAY_TIME':t.wait_time,'POSITION':t.pos+1}\n",
        "      travel_time = travel_time.append(rec, ignore_index=True)\n",
        "    record   = {'TRAIN':t.number, 'POSITION':t.pos+1, 'TRAVEL_TIME':hhmmss(t.travel_time), 'WAIT_TIME':(t.wait_time)}\n",
        "    train_summary = train_summary.append(record, ignore_index=True)"
      ],
      "execution_count": null,
      "outputs": []
    },
    {
      "cell_type": "code",
      "metadata": {
        "id": "rS4ZqZ4m24Wa",
        "colab_type": "code",
        "colab": {
          "base_uri": "https://localhost:8080/",
          "height": 359
        },
        "outputId": "7a63b7bd-6ed5-4a6f-8a51-9eaafa80c5de"
      },
      "source": [
        "build_train_summary(trains_list)\n",
        "train_summary"
      ],
      "execution_count": null,
      "outputs": [
        {
          "output_type": "execute_result",
          "data": {
            "text/html": [
              "<div>\n",
              "<style scoped>\n",
              "    .dataframe tbody tr th:only-of-type {\n",
              "        vertical-align: middle;\n",
              "    }\n",
              "\n",
              "    .dataframe tbody tr th {\n",
              "        vertical-align: top;\n",
              "    }\n",
              "\n",
              "    .dataframe thead th {\n",
              "        text-align: right;\n",
              "    }\n",
              "</style>\n",
              "<table border=\"1\" class=\"dataframe\">\n",
              "  <thead>\n",
              "    <tr style=\"text-align: right;\">\n",
              "      <th></th>\n",
              "      <th>TRAIN</th>\n",
              "      <th>POSITION</th>\n",
              "      <th>TRAVEL_TIME</th>\n",
              "      <th>WAIT_TIME</th>\n",
              "    </tr>\n",
              "  </thead>\n",
              "  <tbody>\n",
              "    <tr>\n",
              "      <th>0</th>\n",
              "      <td>1</td>\n",
              "      <td>15</td>\n",
              "      <td>00:33:16</td>\n",
              "      <td>65.0</td>\n",
              "    </tr>\n",
              "    <tr>\n",
              "      <th>1</th>\n",
              "      <td>2</td>\n",
              "      <td>15</td>\n",
              "      <td>00:33:47</td>\n",
              "      <td>90.0</td>\n",
              "    </tr>\n",
              "    <tr>\n",
              "      <th>2</th>\n",
              "      <td>3</td>\n",
              "      <td>15</td>\n",
              "      <td>00:32:57</td>\n",
              "      <td>39.0</td>\n",
              "    </tr>\n",
              "    <tr>\n",
              "      <th>3</th>\n",
              "      <td>4</td>\n",
              "      <td>15</td>\n",
              "      <td>00:33:12</td>\n",
              "      <td>59.0</td>\n",
              "    </tr>\n",
              "    <tr>\n",
              "      <th>4</th>\n",
              "      <td>5</td>\n",
              "      <td>15</td>\n",
              "      <td>00:33:09</td>\n",
              "      <td>51.0</td>\n",
              "    </tr>\n",
              "    <tr>\n",
              "      <th>5</th>\n",
              "      <td>6</td>\n",
              "      <td>15</td>\n",
              "      <td>00:33:10</td>\n",
              "      <td>56.0</td>\n",
              "    </tr>\n",
              "    <tr>\n",
              "      <th>6</th>\n",
              "      <td>7</td>\n",
              "      <td>15</td>\n",
              "      <td>00:33:05</td>\n",
              "      <td>56.0</td>\n",
              "    </tr>\n",
              "    <tr>\n",
              "      <th>7</th>\n",
              "      <td>8</td>\n",
              "      <td>15</td>\n",
              "      <td>00:33:02</td>\n",
              "      <td>52.0</td>\n",
              "    </tr>\n",
              "    <tr>\n",
              "      <th>8</th>\n",
              "      <td>9</td>\n",
              "      <td>15</td>\n",
              "      <td>00:32:47</td>\n",
              "      <td>30.0</td>\n",
              "    </tr>\n",
              "    <tr>\n",
              "      <th>9</th>\n",
              "      <td>10</td>\n",
              "      <td>15</td>\n",
              "      <td>00:32:45</td>\n",
              "      <td>34.0</td>\n",
              "    </tr>\n",
              "  </tbody>\n",
              "</table>\n",
              "</div>"
            ],
            "text/plain": [
              "  TRAIN POSITION TRAVEL_TIME  WAIT_TIME\n",
              "0     1       15    00:33:16       65.0\n",
              "1     2       15    00:33:47       90.0\n",
              "2     3       15    00:32:57       39.0\n",
              "3     4       15    00:33:12       59.0\n",
              "4     5       15    00:33:09       51.0\n",
              "5     6       15    00:33:10       56.0\n",
              "6     7       15    00:33:05       56.0\n",
              "7     8       15    00:33:02       52.0\n",
              "8     9       15    00:32:47       30.0\n",
              "9    10       15    00:32:45       34.0"
            ]
          },
          "metadata": {
            "tags": []
          },
          "execution_count": 42
        }
      ]
    },
    {
      "cell_type": "markdown",
      "metadata": {
        "id": "iG0jCAbKaPkc",
        "colab_type": "text"
      },
      "source": [
        "Bar graph that shows the travel time of each train in the Network."
      ]
    },
    {
      "cell_type": "code",
      "metadata": {
        "id": "3jKSLpVw29Fu",
        "colab_type": "code",
        "colab": {
          "base_uri": "https://localhost:8080/",
          "height": 405
        },
        "outputId": "f924f274-ec5b-4dee-ad16-07ca285f0933"
      },
      "source": [
        "ax = travel_time[['TRAVEL_TIME']].plot(kind='bar', title =\"Travel time for each train in sec\", figsize=(12, 6), legend=True, fontsize=12)\n",
        "ax.set_xlabel(\"Train\", fontsize=12)\n",
        "ax.set_ylabel(\"Travel Duration\", fontsize=12)\n",
        "plt.show()"
      ],
      "execution_count": null,
      "outputs": [
        {
          "output_type": "display_data",
          "data": {
            "image/png": "iVBORw0KGgoAAAANSUhEUgAAAuIAAAGECAYAAABzpkXlAAAABHNCSVQICAgIfAhkiAAAAAlwSFlzAAALEgAACxIB0t1+/AAAADh0RVh0U29mdHdhcmUAbWF0cGxvdGxpYiB2ZXJzaW9uMy4yLjIsIGh0dHA6Ly9tYXRwbG90bGliLm9yZy+WH4yJAAAgAElEQVR4nO3debxdZX33/c+XBAmQRKYUGSQBRODBGnyM2loVWiqpVoUKKhEQ5S6oleLt3CpKEG21trfWggMWZJBZQRQrT6Wigt61xgEqgyNEwqAhQEhCmMLv+WOvk+yc5uTskHP2Ojnn83699itrr2tda/32yiF8z7WvtVaqCkmSJEn9tVnbBUiSJEkTkUFckiRJaoFBXJIkSWqBQVySJElqgUFckiRJaoFBXJIkSWqBQVySNkCSA5Ms2oDtX5jkZ6NZU9ex9k7ykyTLkpzYj2NuqCSzklSSyX085pFJ/v0J9n1vkn8d6ZokCSDeR1zSpiLJ8q63WwEPA6ua92+sqvP7UMOBwBeqatch2gvYq6p+Odq1rOPYZwIPVNXb+n3sXiWZBdwKbF5Vj/Ww/dnAoqo6aXQrk6T+c0Rc0iajqqYOvIDfAC/vWrc6hPdztHWMmQnc+EQ6bqrnbFOtW5LAIC5pHBiYLpLkPUnuBj6fZNskVyZZnOS+ZnnXZvvXJFkwaB9vS/KVZnmLJP+Y5DdJfpvkM0m27KGO7zSL1ydZ3hxnraksSW5L8q4kNyRZkeTMJDsm+XozpeTqJNt2bf8HSb6X5P4k1zcj8us69jeBPwZOa4799CRPTnJucw4WJjkpyWbN9q9P8t0kH0+yBJi/jn1uluRvkvwqyZIklyTZrqv90iR3J1ma5DtJ9utq2zLJPzXHXZrkukHn8Mjm/N6T5H1DfKbjgSOBdzef6atd5/A9SW4AViSZ3FXnsiQ3JfmLrv28Psl1Xe8ryZuS/KI5r6cnyRA1zE/yhWZ5YFrNMcPV3mz/0qaWZUnuSPLOrraXpTON6P7m7/eZXW1PTXJZ8/e2JMlpQx1D0qbNIC5pvHgKsB2dUeHj6fz79vnm/W7ASmAg0HwV2DvJXl39Xwtc0Cx/BHg6sD/wNGAX4APDFVBVL2oWZzej9BcPselhwIubY7wc+DrwXmBGU/eJAEl2Ab4GfKj5bO8EvpRkxjqO/SfAtcAJzbF/DvwL8GRgD+AA4HXAG7q6PQ/4NbAj8OF11PnXwKFN352B+4DTu9q/DuwF/B7wI6B7atA/As8Gnt/U/m7g8a72FwB7AwcBH0iy7zo+0xnNPv+h+Uwv72qeB/w5sE0zxeVXwAubz3sK8IUkO63jMw14GfAc4JnAq4G569l2sGFrb5xJZ8rUNOAZwDcBkjwLOAt4I7A98FngK80vgJOAK4GFwCw6P3sXbUBtkjYhBnFJ48XjwMlV9XBVrayqJVX1pap6sKqW0QmaBwBU1YPAFXTCHE0g34dOGAqdIP+2qrq36ft3wBEjWOu/VNVvq+oOOuH5+1X146p6CLgceFaz3VHAv1XVv1XV41X1DWAB8NLhDtAEuiOAv62qZVV1G/BPwNFdm91ZVf9SVY9V1cp17OZNwPuqalFVPUxn1PzwNNNBquqsZt8DbbObUfjNgGOBt1bVHVW1qqq+12w34JTm7+l64Hpgdg/nrdsnq+r2gbqr6tKqurM5TxcDvwCeu57+H6mq+6vqN8A1dH7p6lWvtT8K/D9JplfVfVX1o2b98cBnq+r7zbk5h871Dn/Q1Lwz8K6qWlFVD1XVdevevaRNnUFc0nixuAmyACTZKslnm6kRDwDfAbZpAip0Rr/nNcuvBb7cBPQZdC4E/WEzbeB+4Kpm/Uj5bdfyynW8n9oszwReNVBHU8sLgPWN9A7YAdiczsjqgIV0RlgH3D7MPmYCl3cd+2Y6F8fumGRSko8000EeAG7rOu4OwBQ6o9RDubtr+UHWfOZerVV7ktd1TfW4n84I9A6jdPxe+x5G55emhUm+neQPm/UzgXcM+nt9Kp0A/lRgYS8Xskra9BnEJY0Xg28B9Q460weeV1XTgYFpIwNzgb8BzEiyP51APjAt5R46YXi/qtqmeT25uUC0324HzuuqY5uq2rqqPtJD33vojMjO7Fq3G3BH1/vhbpt1O/CSQcef0ozkvxY4BPhTOtNBZjV90hz7IWDPHuoczlA1rl6fZCbwOeAEYPuq2gb4KWv+rltRVT+oqkPoTN35MnBJ03Q78OFB53WrqrqwadstXoQqTQgGcUnj1TQ6gfr+5gLDk7sbq+pR4FLgY3TmMH+jWf84nVD38SS/B5252kl6nUP8WzpzskfCF4CXJ5nbjEBPSefiz3XeOrFbVa2iE/w+nGRaE1bf3uyzV59p+s8ESDIjySFN2zQ60ymW0PkG4e+6jv04nTnQ/yfJzk3tf5hkiw049oBezufWdIL54qbON9AZEW9Nkielc//yJzc/aw+wZo7854A3JXleOrZO8udJpgH/BdwFfKRZPyXJH7X0MSSNMoO4pPHqE8CWdEZn/5PO9JLBLqAzonvpoKkA7wF+CfxnM+3iajqj672YD5zTTDl49ROsHYCqup3OqPN76YTM24F30fu/3X8NrKBzQeZ1dD7vWRtQwj8DXwH+PckyOufxeU3buXSmutwB3NS0dXsn8N/AD4B7gY9uQN3dzqQzz/r+JF9e1wZVdROd+e//l05w/33gu0/gWCPtaOC25mfoTXTuAENVLQCOo3Px8H10ftZe37StonMB79Po3KJzEfCafhcuqT98oI8kSZLUAkfEJUmSpBYYxCVJkqQWGMQlSZKkFhjEJUmSpBYYxCVJkqQWTMgHBuywww41a9astsuQJEnSOPfDH/7wnqpa59OZJ2QQnzVrFgsWLGi7DEmSJI1zSRYO1ebUFEmSJKkFBnFJkiSpBQZxSZIkqQUTco64JEnSpuzRRx9l0aJFPPTQQ22XosaUKVPYdddd2XzzzXvuYxCXJEnaxCxatIhp06Yxa9YskrRdzoRXVSxZsoRFixax++6799zPqSmSJEmbmIceeojtt9/eED5GJGH77bff4G8oDOKSJEmbIEP42PJE/j4M4pIkSVILnCMuSZK0iZv1N18b0f3d9pE/X2/7kiVLOOiggwC4++67mTRpEjNmdB4eef311zN79mwee+wxdt99d8477zy22Wab1X33339/9tlnHy666CIefPBBnvrUp3Lrrbcyffr01dsceuihzJs3j5UrV/Kud72LXXbZZXXbBRdcwFZbbcXLXvYyfvrTn663zre85S1897vf5ZFHHuHWW29l7733BuCkk07iyiuv5GUvexmHH344Bx54IL/+9a9ZuHDh6pHtQw89lKuvvprly5dz2223se+++67uD/D2t7+d173udb2cziEZxCVJkrRBtt9+e37yk58AMH/+fKZOnco73/lOAKZOnbq67ZhjjuH000/nfe97HwA333wzq1at4tprr2XFihVsvfXWzJ07l8svv5xjjjkGgKVLl3LddddxwQUXcMkll/Ca17yG0047ba3j33bbbT3Vefrpp6/e/mUve9nqugCuvPLKtbbdZptt+O53v8sLXvAC7r//fu6666612vfcc8+1+o8Ep6ZIkiRpVPzhH/4hd9xxx+r3F154IUcffTQHH3wwV1xxBQDz5s3joosuWr3N5Zdfzty5c9lqq636WusRRxyxuo7LLruMV77ylaN+TIO4JEmSRtyqVav4j//4D17xilesXnfxxRdzxBFHMG/ePC688EIA5s6dy49+9COWLFkCwEUXXcS8efPW6rP//vuvfq1cuXJU6j3ooIP4zne+w6pVq7jooot4zWtes1b7r371q7XquPbaazf6mE5NkSRJ0ohZuXIl+++/P3fccQf77rsvL37xiwFYsGABO+ywA7vtthu77LILxx57LPfeey/bbbcdr3jFK/jiF7/IYYcdxo9//GPmzp27en/rmpoyGiZNmsQLXvACLrroIlauXMmsWbPWah+NqSkGcW20kb5A5Ika7sISSZI0+rbcckt+8pOf8OCDDzJ37lxOP/10TjzxRC688EJuueWW1QH3gQce4Etf+hLHHXcc8+bN49RTT6WqOOSQQzbo6ZQj6YgjjuAv/uIvmD9/fl+O15epKUm2SHJmkoVJliX5SZKXdLUflOSWJA8muSbJzEF9z0ryQJK7k7x90L6H7CtJkqR2bLXVVnzyk5/kn/7pn3jkkUe45JJL+O///m9uu+02brvtNq644orV01MOPPBAfvGLX3D66aevNS2l3174whfyt3/7t32roV8j4pOB24EDgN8ALwUuSfL7wHLgMuAvga8CpwIXA3/Q9J0P7AXMBJ4CXJPkpqq6KskOw/SVJEka98bqt8LPetazeOYzn8nf//3fs8suu7DzzjuvbnvRi17ETTfdxF133cVOO+3E4YcfziWXXMIBBxyw1j4uvvhirrvuutXvP/WpT7Hzzjvzs5/9jF133XX1+o9//OO86lWv2qh6k6y++8tgA3PEBxx77LGceOKJG3e8qtqoHTzhAyc3AKcA2wOvr6rnN+u3Bu4BnlVVtyS5s2n/96b9VGCvqjoiyfHr6zvUsefMmVMLFiwYzY83oTg1RZKk/rr55pvZd9992y5Dg6zr7yXJD6tqzrq2b+WuKUl2BJ4O3AjsB1w/0FZVK4BfAfsl2RbYqbu9Wd6vWR6y72jWL0mSJG2svl+smWRz4HzgnGbEeyqweNBmS4FpwNSu94PbaNqH6jv4uMcDxwPstttuG/MRAEeBJUmSxpKBp2h2e+tb38ob3vCGlioaXl+DeJLNgPOAR4ATmtXLgemDNp0OLGvaBt4/NKhtuL5rqaozgDOgMzXlCX8IST3xl9U1PBdrjIVzMRbOg6SRN/AUzU1J34J4kgBnAjsCL62qR5umG4FjurbbGtgTuLGq7ktyFzAb+Eazyeymz3r7juJHkSRpo/lLyRqeiyemqujEK40FT+S6y36OiH8a2Bf406rqfiTS5cDHkhwGfA34AHBD18WW5wInJVlAJ8QfB7yhx75SX42F/5nApvk/FElS76ZMmcKSJUvYfvvtDeNjQFWxZMkSpkyZskH9+hLEm3t7vxF4GLi76wfmjVV1fhOkTwO+AHwfOKKr+8l0QvxCYCXw0aq6CqCqFg/TV5IkadzZddddWbRoEYsXD75UTm2ZMmXKWrdT7EVfgnhVLQSG/HWtqq4G9hmi7WHg2Oa1QX0lSZI2JWPhm9Wx8q3qRDgXrdy+UJIkSZroDOKSJElSCwzikiRJUgsM4pIkSVILDOKSJElSCwzikiRJUgsM4pIkSVILDOKSJElSCwzikiRJUgsM4pIkSVILDOKSJElSCwzikiRJUgsM4pIkSVILDOKSJElSCwzikiRJUgsM4pIkSVILDOKSJElSCwzikiRJUgsM4pIkSVILDOKSJElSCwzikiRJUgsM4pIkSVILDOKSJElSCwzikiRJUgsM4pIkSVILDOKSJElSCwzikiRJUgsM4pIkSVIL+hbEk5yQZEGSh5Oc3bX+yCTLu14PJqkkz27a5yd5dNA2e3T13z/JD5t+P0yyf78+kyRJkvRE9XNE/E7gQ8BZ3Sur6vyqmjrwAv4K+DXwo67NLu7epqp+DZDkScAVwBeAbYFzgCua9ZIkSdKY1bcgXlWXVdWXgSXDbHoMcG5VVQ+7PRCYDHyiqh6uqk8CAf5ko4qVJEmSRtmYmiOeZCbwIuDcQU0vT3JvkhuTvLlr/X7ADYNC+w3NekmSJGnMGlNBHHgdcG1V3dq17hJgX2AGcBzwgSTzmrapwNJB+1gKTBu84yTHN3PUFyxevHjkK5ckSZI2wFgM4ud0r6iqm6rqzqpaVVXfA/4ZOLxpXg5MH7SP6cCywTuuqjOqak5VzZkxY8YolC5JkiT1bswE8SR/BOwMfHGYTYvOPHCAG4FnJklX+zOb9ZIkSdKY1c/bF05OMgWYBExKMiXJ5K5NjgG+VFXLBvU7JMm26XgucCKdO6UAfAtYBZyYZIskJzTrvzmqH0aSJEnaSP0cET8JWAn8DXBUs3wSQBPQX82gaSmNI4Bf0pluci7w0ao6B6CqHgEOpTOl5X7gWODQZr0kSZI0Zk0efpORUVXzgflDtD0EbDNE27x1re9q/zHw7I0sT5IkSeqrMTNHXJIkSZpIDOKSJElSCwzikiRJUgsM4pIkSVILDOKSJElSCwzikiRJUgsM4pIkSVILDOKSJElSCwzikiRJUgsM4pIkSVILDOKSJElSCwzikiRJUgsM4pIkSVILDOKSJElSCwzikiRJUgsM4pIkSVILDOKSJElSCwzikiRJUgsM4pIkSVILDOKSJElSCwzikiRJUgsM4pIkSVILDOKSJElSCwzikiRJUgsM4pIkSVILDOKSJElSCwzikiRJUgsM4pIkSVIL+hbEk5yQZEGSh5Oc3bV+VpJKsrzr9f6u9i2SnJXkgSR3J3n7oP0elOSWJA8muSbJzH59JkmSJOmJmtzHY90JfAiYC2y5jvZtquqxdayfD+wFzASeAlyT5KaquirJDsBlwF8CXwVOBS4G/mDky5ckSZJGTt9GxKvqsqr6MrBkA7seA5xaVfdV1c3A54DXN22vBG6sqkur6iE6oX12kn1GqGxJkiRpVIylOeILkyxK8vlmpJsk2wI7Add3bXc9sF+zvF93W1WtAH7V1S5JkiSNSWMhiN8DPIfO1JNnA9OA85u2qc2fS7u2X9psM9De3Ta4fbUkxzdz1BcsXrx4hEqXJEmSnpjWg3hVLa+qBVX1WFX9FjgBODjJNGB5s9n0ri7TgWXN8vJBbYPbu49zRlXNqao5M2bMGNkPIUmSJG2g1oP4OlTz52ZVdR9wFzC7q302cGOzfGN3W5KtgT272iVJkqQxqZ+3L5ycZAowCZiUZEqz7nlJ9k6yWZLtgU8C36qqgSkn5wInJdm2uQjzOODspu1y4BlJDmv2/QHghqq6pV+fS5IkSXoi+jkifhKwEvgb4Khm+SRgD+AqOtNJfgo8DMzr6ncynQswFwLfBj5WVVcBVNVi4DDgw8B9wPOAI/rwWSRJkqSN0rf7iFfVfDq3F1yXC9fT72Hg2Oa1rvarAW9XKEmSpE3KWJwjLkmSJI17BnFJkiSpBQZxSZIkqQUGcUmSJKkFBnFJkiSpBQZxSZIkqQUGcUmSJKkFBnFJkiSpBQZxSZIkqQUGcUmSJKkFBnFJkiSpBQZxSZIkqQUGcUmSJKkFBnFJkiSpBQZxSZIkqQUGcUmSJKkFk3vdMMmTgb2Bqd3rq+qbI12UJEmSNN71FMSTvB44HVgOPNjVVMAeI1+WJEmSNL71OiL+YeDwqvr6aBYjSZIkTRS9zhGfDPz7aBYiSZIkTSS9BvGPAicl8eJOSZIkaQT0OjXlbcBTgHcnWdLdUFW7jXhVkiRJ0jjXaxA/alSrkCRJkiaYnoJ4VX17tAuRJEmSJpKe5nwn2TzJKUl+neSh5s9TkjxptAuUJEmSxqNep6b8A/Bc4E3AQmAm8H5gOp3545IkSZI2QK9B/FXA7KoauFDzZ0l+BFyPQVySJEnaYL3ejjAbuF6SJEnSevQaxC8FvppkbpJ9k/wZ8GXgktErTZIkSRq/eg3i7wauBk4HfgicBlwDvKfXAyU5IcmCJA8nObtr/R8k+UaSe5MsTnJpkp262ucneTTJ8q7XHl3t+yf5YZIHmz/377UmSZIkqS09BfGqeqSqPlBVT6uqrZo/319VD2/Ase4EPgScNWj9tsAZwCw6F4EuAz4/aJuLq2pq1+vXAM1dW64AvtDs5xzgCu/mIkmSpLFuyIs1k7yoqr7TLP/JUNtV1Td7OVBVXdbsaw6wa9f6rw867mlAr/ctP5DOZ/hEVRXwySTvBP4EuKrHfUiSJEl9t767pnwKeEazfOYQ2xSwxxBtT9SLgBsHrXt5knuBu4DTqurTzfr9gBuaED7ghmb9WkE8yfHA8QC77bbbCJcsSZIkbZghg3hVPaNrefd+FJPkmcAHgEO6Vl9CZ+rKb4HnAV9Kcn9VXQhMBZYO2s1SYNrgfVfVGc1+mDNnTg1ulyRJkvqp1ydrXjHE+stGqpAkTwO+Dry1qq4dWF9VN1XVnVW1qqq+B/wzcHjTvJzOQ4W6Taczz1ySJEkas3q9a8ofD7H+wJEoIslMOndlObWqzhtm82LN/ctvBJ6ZpPt+5s/kf05tkSRJksaU9T5ZM8kHm8UndS0P2IPO4+57kmRyc7xJwKQkU4DHgB2Bb9KZ+/2ZdfQ7BPgOcD/wHOBE4L1N87eAVcCJST4DHNes7+kCUkmSJKktwz3i/qnNn5t1LUNnVPp2YP4GHOsk4OSu90cBp7Dmgs/5SVbvr6qmNotH0Lnl4RbAIuCjVXVOs80jSQ4F/hX4CHAzcGhVPbIBdUmSJEl9t94gXlVvAEjyvar63MYcqKrmM3RwP2U9/eYNs98fA89+woVJkiRJLRhuRByAgRCeZBqwA2vmaDPwcB1JkiRJvespiCfZF7gAmM2aiyUHbgE4aXRKkyRJksavXu+a8mngGmA74AE6j5P/LHDMKNUlSZIkjWs9jYjTGQl/cVU9miRVtTTJu4CfAl8YvfIkSZKk8anXEfGHgM2b5XuS7Nb03X5UqpIkSZLGuV6D+LXAq5vlL9J5Aua38X7dkiRJ0hPS611TXt319r10pqRMA84djaIkSZKk8W7YIJ5kEvAfwNyqeriqHsd54ZIkSdJGGXZqSlWtAnbvZVtJkiRJvek1XJ8CfDrJzCSTkmw28BrN4iRJkqTxqtfbF/5r8+fRXesGHurjA30kSZKkDdRrEN99VKuQJEmSJphe75qycLQLkSRJkiaSnoJ4kvPoTEP5H6rqdSNakSRJkjQB9Do15ZeD3j8FOBw4f2TLkSRJkiaGXqemnDJ4XZIzgZNHvCJJkiRpAtiY2w/+BDhgpAqRJEmSJpJe54j/yaBVWwFHADeNeEWSJEnSBNDrHPEzB71fQWdEfN7IliNJkiRNDL3OEfc+4pIkSdII6nVqyrbAc4HtgCXAf1XV/aNZmCRJkjSeDRvEk7wfeG+z7T3ADODRJB9Z191UJEmSJA1vvXdNSfJq4K+Bo4Atq2onYApwNPDmJK8Z/RIlSZKk8We4EfHjgLdX1ZcGVlTVY8AXk2wBHA9cPIr1SZIkSePScPcR3x/4tyHa/g2YPbLlSJIkSRPDcEF8i6q6d10NVXUf8KSRL0mSJEka/4abmpIkuwMZqn2E65EkSZImhOGC+NbALxk6cNfIliNJkiRNDOudmlJVm1XVpObPdb0m9XqgJCckWZDk4SRnD2o7KMktSR5Mck2SmV1tWyQ5K8kDSe5O8vZe+0qSJElj1XBzxEfSncCHgLO6VybZAbgMeD+dBwYtYO07scwH9gJmAn8MvDvJn/XYV5IkSRqT+hbEq+qyqvoynSdzdnslcGNVXVpVD9EJ3rOT7NO0HwOcWlX3VdXNwOeA1/fYV5IkSRqT+jkiPpT9gOsH3lTVCuBXwH5JtgV26m5vlvcbru8o1yxJkiRtlLEQxKcCSwetWwpMa9oY1D7QNlzftSQ5vpmjvmDx4sUbXbQkSZK0McZCEF8OTB+0bjqwrGljUPtA23B911JVZ1TVnKqaM2PGjI0uWpIkSdoYQ96+MMnt9HB7wqrabSNruJHOPPCB424N7Eln7vd9Se6i8wTPbzSbzG76rLfvRtYkSZIkjar13Uf8qJE8UJLJzfEmAZOSTAEeAy4HPpbkMOBrwAeAG6rqlqbrucBJSRYAOwLHAW9o2obrK0mSJI1JQwbxqvr2CB/rJODkrvdHAadU1fwmSJ8GfAH4PnBE13YnA58GFgIrgY9W1VVNjYuH6StJkiSNScM9WRPoPFSHzmjzPGD7qnpykoOBp1fVab3so6rm07m94LrargbWecvBqnoYOLZ5bVBfSZIkaazq9WLNjwPPAI5kzbzxG4E3j0ZRkiRJ0njX04g48BfA06pqRZLHAarqjiS7jF5pkiRJ0vjV64j4IwwK7Ulm8D+fkilJkiSpB70G8UuBc5LsDpBkJzoXSF40WoVJkiRJ41mvQfy9wK3AfwPbAL8A7gROGaW6JEmSpHGtpzniVfUI8Dbgbc2UlHuqatiH/UiSJElat55GxJN8OcmrkmxRVYsN4ZIkSdLG6XVqyreBdwG/S3JOkrlJeu0rSZIkaZCewnRVfbyqngvMAX4NfAK4M8knR7M4SZIkabzaoFHtqvpFVZ1C5zHyNwBvGZWqJEmSpHGu5yCeZM8kJyW5EfgGnTunHDBqlUmSJEnjWE93TUnyA+DpwBXAO4FvVNVjo1mYJEmSNJ71+oj7jwFfraqVo1mMJEmSNFH0eh/xSwaWkwRIV9vjo1CXJEmSNK71eh/xnZNcnmQJ8BjwaNdLkiRJ0gbq9WLNzwKPAAcBy4H/F/gK8KZRqkuSJEka13qdI/58YLeqWpGkqur6JP8L+B7wudErT5IkSRqfeh0RX0VnSgrA/UlmACuAXUalKkmSJGmc6zWIfx94abP8/wEXA5cBC0ajKEmSJGm863VqytGsCe3/G3gHMI3Oo+4lSZIkbaBhg3iSScA/A8cDNPcS/9Ao1yVJkiSNa8NOTamqVcDBgPcLlyRJkkZIr3PEPw6ckmTz0SxGkiRJmijWG8STzGsW/xp4F7Asye1JfjPwGvUKJUmSpHFouDninwUuBI7qQy2SJEnShDFcEA9AVX27D7VIkiRJE8ZwQXxSkj+mCeTrUlXfHNmSJEmSpPFvuCC+BXAmQwfxAvYY0YokSZKkCWC4u6asqKo9qmr3IV4jEsKTLB/0WpXkX5q2WUlqUPv7u/pukeSsJA8kuTvJ20eiJkmSJGk09fpkzVFVVVMHlpNMBe4GLh202TZV9dg6us8H9gJmAk8BrklyU1VdNUrlSpIkSRttuBHxIeeGj6LDgN8B1/a4/THAqVV1X1XdDHwOeP0o1SZJkiSNiPUG8aqa1q9CuhwDnFtVNWj9wiSLknw+yQ4ASbYFdgKu79ruemC//pQqSZIkPTG9PlmzL5LMBA4AzulafQ/wHDpTT54NTAPOb9oGprQs7dp+abPN4H0fn2RBkgWLFy8e6dIlSZKkDTKmgjhwNPHqK+gAAA8kSURBVHBdVd06sKKqllfVgqp6rKp+C5wAHJxkGrC82Wx61z6mA8sG77iqzqiqOVU1Z8aMGaP4ESRJkqThjbUg/jrWHg1fl4EpK5tV1X3AXcDsrvbZwI2jUJskSZI0YsZMEE/yfGAXBt0tJcnzkuydZLMk2wOfBL5VVQPTUc4FTkqybZJ9gOOAs/tYuiRJkrTBxkwQp3OR5mVVNXhayR7AVXSmm/wUeBiY19V+MvArYCHwbeBj3rpQkiRJY92YuI84QFW9cYj1FwIXrqffw8CxzUuSJEnaJIylEXFJkiRpwjCIS5IkSS0wiEuSJEktMIhLkiRJLTCIS5IkSS0wiEuSJEktMIhLkiRJLTCIS5IkSS0wiEuSJEktMIhLkiRJLTCIS5IkSS0wiEuSJEktMIhLkiRJLTCIS5IkSS0wiEuSJEktMIhLkiRJLTCIS5IkSS0wiEuSJEktMIhLkiRJLTCIS5IkSS0wiEuSJEktMIhLkiRJLTCIS5IkSS0wiEuSJEktMIhLkiRJLTCIS5IkSS0wiEuSJEktMIhLkiRJLTCIS5IkSS0YM0E8ybeSPJRkefP6WVfba5MsTLIiyZeTbNfVtl2Sy5u2hUle284nkCRJkno3ZoJ444Sqmtq89gZIsh/wWeBoYEfgQeBTXX1OBx5p2o4EPt30kSRJksasyW0X0IMjga9W1XcAkrwfuDnJNOBx4DDgGVW1HLguyVfohPa/aatgSZIkaThjbUT875Pck+S7SQ5s1u0HXD+wQVX9is4I+NOb12NV9fOufVzf9FlLkuOTLEiyYPHixaP2ASRJkqRejKUg/h5gD2AX4Azgq0n2BKYCSwdtuxSY1rQ9METbWqrqjKqaU1VzZsyYMdK1S5IkSRtkzExNqarvd709J8k84KXAcmD6oM2nA8voTE0Zqk2SJEkas8bSiPhgBQS4EZg9sDLJHsAWwM+b1+Qke3X1m930kSRJksasMRHEk2yTZG6SKUkmJzkSeBFwFXA+8PIkL0yyNfBB4LKqWlZVK4DLgA8m2TrJHwGHAOe19VkkSZKkXoyVqSmbAx8C9gFWAbcAhw5chJnkTXQC+fbA1cAbuvr+FXAW8DtgCfDmqnJEXJIkSWPamAjiVbUYeM562i8ALhii7V7g0FEqTZIkSRoVY2JqiiRJkjTRGMQlSZKkFhjEJUmSpBYYxCVJkqQWGMQlSZKkFhjEJUmSpBYYxCVJkqQWGMQlSZKkFhjEJUmSpBYYxCVJkqQWGMQlSZKkFhjEJUmSpBYYxCVJkqQWGMQlSZKkFhjEJUmSpBYYxCVJkqQWGMQlSZKkFhjEJUmSpBYYxCVJkqQWGMQlSZKkFhjEJUmSpBYYxCVJkqQWGMQlSZKkFhjEJUmSpBYYxCVJkqQWGMQlSZKkFhjEJUmSpBYYxCVJkqQWjIkgnmSLJGcmWZhkWZKfJHlJ0zYrSSVZ3vV6/6C+ZyV5IMndSd7e3ieRJEmSejO57QIak4HbgQOA3wAvBS5J8vtd22xTVY+to+98YC9gJvAU4JokN1XVVaNbsiRJkvTEjYkR8apaUVXzq+q2qnq8qq4EbgWe3UP3Y4BTq+q+qroZ+Bzw+lEsV5IkSdpoYyKID5ZkR+DpwI1dqxcmWZTk80l2aLbbFtgJuL5ru+uB/fpWrCRJkvQEjLkgnmRz4HzgnKq6BbgHeA6dqSfPBqY17QBTmz+Xdu1iabPN4P0en2RBkgWLFy8erfIlSZKknoypIJ5kM+A84BHgBICqWl5VC6rqsar6bbP+4CTTgOVN1+ldu5kOLBu876o6o6rmVNWcGTNmjOrnkCRJkoYzZoJ4kgBnAjsCh1XVo0NsWs2fm1XVfcBdwOyu9tmsPaVFkiRJGnPGTBAHPg3sC7y8qlYOrEzyvCR7J9ksyfbAJ4FvVdXAdJRzgZOSbJtkH+A44Ow+1y5JkiRtkDERxJPMBN4I7A/c3XW/8COBPYCr6Ew3+SnwMDCvq/vJwK+AhcC3gY9560JJkiSNdWPiPuJVtRDIeja5cD19HwaObV6SJEnSJmFMjIhLkiRJE41BXJIkSWqBQVySJElqgUFckiRJaoFBXJIkSWqBQVySJElqgUFckiRJaoFBXJIkSWqBQVySJElqgUFckiRJaoFBXJIkSWqBQVySJElqgUFckiRJaoFBXJIkSWqBQVySJElqgUFckiRJaoFBXJIkSWqBQVySJElqgUFckiRJaoFBXJIkSWqBQVySJElqgUFckiRJaoFBXJIkSWqBQVySJElqgUFckiRJaoFBXJIkSWqBQVySJElqgUFckiRJasG4COJJtktyeZIVSRYmeW3bNUmSJEnrM7ntAkbI6cAjwI7A/sDXklxfVTe2W5YkSZK0bpv8iHiSrYHDgPdX1fKqug74CnB0u5VJkiRJQ9vkgzjwdOCxqvp517rrgf1aqkeSJEkaVqqq7Ro2SpIXApdW1VO61h0HHFlVB3atOx44vnm7N/CzftY5hB2Ae9ouYozwXKzhuVjDc7GG52INz8Uanos1PBdreC7WGAvnYmZVzVhXw3iYI74cmD5o3XRgWfeKqjoDOKNfRfUiyYKqmtN2HWOB52INz8Uanos1PBdreC7W8Fys4blYw3Oxxlg/F+NhasrPgclJ9upaNxvwQk1JkiSNWZt8EK+qFcBlwAeTbJ3kj4BDgPParUySJEka2iYfxBt/BWwJ/A64EHjzJnLrwjE1VaZlnos1PBdreC7W8Fys4blYw3OxhudiDc/FGmP6XGzyF2tKkiRJm6LxMiIuSZIkbVIM4pIkSVILDOKSJElSC8bDfcQ3CUn2BY6m88TPaXTuc34jcF5V3dxmbWpPkt2AZwM3Dno6LEnmVdWF7VTWf0meBewJ/BvwMPDm5v3VVfW1NmsbC5IsAA6uqnvbrqUtSXYHXgoEuKqqftlySX3T3BHs11V1V5ItgJPonAuArwJ/V1WPtFagWpFkMzo3rNgP+HpVfSXJR4GX0HnK+NuranGbNfZTkqfRyVrPALYCFgH/BZxdVY+2WdtQvFizD5LMAz4NfIXOfxhL6Tx0aDbwCuBNVXVxexWOHUkmAe+rqg+2XctoS/JnwCXArcBewNnAX1fVqqb9gaoa/LCqcSnJ/wI+BBRwJ51bkj6VzmDBEcBbq+qs9irsnyTnDtF0OHAl8FBVva6PJbUmyc1VtW+zfACdwPldOj8nLwQOqapvtlhi3yT5BfCiJoj/C/As4P/QORdvA35YVW9rs8Z+SfLPwCVV9d22a2lb87NwAHAVnfD9A2A74PPAMcAjVXVEexX2T5JDgS/Q+TcidM7LxXQGdJ4CvLiqft1ehetmEO+DJLcCR63rH41mlOP8qprV98LGoGak58GqmtR2LaMtyY+A91fV15LsSOcfkIeBV1bVI0mWVdW0dqvsjyS30PmlNMDNwAuq6ntN21zgH6pqdosl9k2SlXRGcP6DzvkY8E7gM8Dyqjqljdr6rfu/gSTXAp+rqnOb90cCb6mq57dZY78kWV5VU5vl3wD7D3w7kmRbOt+q7dxmjf2S5DHgQTq3LD4XOKeqFrZbVTuS3EnnZ+F3SXYBfgPsUFX3JdkG+HlV/V67VfZHkp8Db6yqa5r3BwNvq6qXJHkn8MdV9eetFrkOBvE+SLIcmFFVK9fRthXwu4F/YCeCJOsb2ZwMHDlBgvjSqnpy1/vJdML4DnRC6W8nUBBffS6SrACmVvOPU/PV671VtU2bNfZL85Tg04D76HytfGez/i5gdlX9rs36+qn7W6EkvwN2Gfh6ufn2bHFVbddmjf2S5CbgmKr6QTM6/kcDPwtJZtAJXNu2WmSfJFlGZ4TzcOB1wIuA6+h8q/jF5kF/E0KSe4Edq+rRJFsCDwBbNe8n2n8j9wPbdv2/YzJwV1XNaLLW3WPxW2Yv1uyPbwBnJdmze2Xz/nNN+0TyWmAlcMc6XotarKvf7kvy1IE3VfUYMI/OiMbVwLj/ZaTLiiSbN8tn19ojBFsCj7dQUyuq6hdVNRf4MnBNknc2/0OZiKMmmyd5Q5Jj6Xz+J3W1TWZi/TfyQeCSJG8A/hW4MslRSY6iM2Xpglar66+qqhVVdU5VHQQ8jc43SO8F7k5ydqvV9df/BT7bTHX8DJ3pr+9IMg14R/N+ovghcGLX+/9N51o8gFXAY32vqAeOiPdB87Xhp4BXAo/S+Y11Op3/kVxG5+vV+9qrsL+S/AA4taq+so62KXSmpoz7XxKT/Cvwm3XNh0/yGeD4iXAeAJKcR+dis/9x4XKS19B5Wu6BfS+sZUmm0wlgfwrMBPacYCPi32LtX0DeXVU/aNoOBj5UVc9to7Y2JHkxMB+YAwz84rqIznzgU5tf5se99V0/k+T5wOuq6k19LqsVSWbSyRezgE8A19KZL/5UOtcfvbKqbmitwD5Ksg9wBbBTs+p3wKFV9dMkvw8cXVXvbq3AIRjE+6j5auTpwFRgOZ2vEh9st6r+S/IW4I6q+vI62iYBJ02EObBJngRMHupnIMluVfWbPpc15jRfu1dV3dN2LW1Jsj+dC48+W1UPtV3PWJDkycDmE/HnopmutSOwsqrub7uefptI1888EUkCbFdVS9qupd+aDLFP8/Znm8IvpwZxSZIkqQUT4mtvSZIkaawxiEuSJEktMIhLkp6wJF9PckzbdUjSpsg54pI0wTTPNhiwFZ0HSa1q3r+xqs7vf1WSNPEYxCVpAktyG/CXVXX1Otombwp3HZCkTZVTUyRJACQ5MMmiJO9Jcjfw+STbJrkyyeIk9zXLu3b1+VaSv2yWX5/kuiT/2Gx7a5KXtPaBJGmMM4hLkro9BdiOzgOEjqfz/4nPN+93o/NU3NPW0/95wM+AHYB/AM5s7mssSRrEIC5J6vY4cHJVPVxVK6tqSVV9qaoerKplwIfpPFxoKAur6nNVtQo4h85T7nbsQ92StMmZ3HYBkqQxZXH30zubJwJ/HPgzYNtm9bQkk5qwPdjdAwtV9WAzGD51FOuVpE2WI+KSpG6Dr+B/B7A38Lyqmg68qFnvdBNJ2kgGcUnS+kyjMy/8/iTbASe3XI8kjRsGcUnS+nwC2BK4B/hP4Kp2y5Gk8cP7iEuSJEktcERckiRJaoFBXJIkSWqBQVySJElqgUFckiRJaoFBXJIkSWqBQVySJElqgUFckiRJaoFBXJIkSWqBQVySJElqwf8PHstVjmp+hNUAAAAASUVORK5CYII=\n",
            "text/plain": [
              "<Figure size 864x432 with 1 Axes>"
            ]
          },
          "metadata": {
            "tags": [],
            "needs_background": "light"
          }
        }
      ]
    },
    {
      "cell_type": "markdown",
      "metadata": {
        "id": "XtBhHuEuaasb",
        "colab_type": "text"
      },
      "source": [
        "Bar graph that shows the Waiting/ Delay time of each train in the Network."
      ]
    },
    {
      "cell_type": "code",
      "metadata": {
        "id": "XkGxxHR_3Cew",
        "colab_type": "code",
        "colab": {
          "base_uri": "https://localhost:8080/",
          "height": 405
        },
        "outputId": "6d1240d1-3809-4ee9-ccd3-22789a5ada00"
      },
      "source": [
        "ax = travel_time[['DELAY_TIME']].plot(kind='bar', title =\"Waiting time for each train\", figsize=(12, 6), legend=True, fontsize=12)\n",
        "ax.set_xlabel(\"Train\", fontsize=12)\n",
        "ax.set_ylabel(\"Wait/Delay Duration\", fontsize=12)\n",
        "plt.show()"
      ],
      "execution_count": null,
      "outputs": [
        {
          "output_type": "display_data",
          "data": {
            "image/png": "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\n",
            "text/plain": [
              "<Figure size 864x432 with 1 Axes>"
            ]
          },
          "metadata": {
            "tags": [],
            "needs_background": "light"
          }
        }
      ]
    },
    {
      "cell_type": "markdown",
      "metadata": {
        "id": "zWl7qNjvaqqS",
        "colab_type": "text"
      },
      "source": [
        "Average travel time trains in the Network"
      ]
    },
    {
      "cell_type": "code",
      "metadata": {
        "id": "X1bmHvpQ3G7y",
        "colab_type": "code",
        "colab": {
          "base_uri": "https://localhost:8080/",
          "height": 34
        },
        "outputId": "e0574159-9a89-4cb6-c854-d616401232f3"
      },
      "source": [
        "x = travel_time['TRAVEL_TIME'].mean()\n",
        "print(\"Overall average travel time of all trains that entered Network line is\", hhmmss(x))\n"
      ],
      "execution_count": null,
      "outputs": [
        {
          "output_type": "stream",
          "text": [
            "Overall average travel time of all trains that entered Network line is 00:33:07\n"
          ],
          "name": "stdout"
        }
      ]
    },
    {
      "cell_type": "markdown",
      "metadata": {
        "id": "XevMNoEAfDFe",
        "colab_type": "text"
      },
      "source": [
        "## Simulation and Optimization\n",
        "\n",
        "get_optimal() function calculates the average travel time, average delay time, and throughput for all combination of number of trains ranging from (1...20) and number of blocks ranging from (1...15) between the time 7am - 10pm. Variablity due to bad weather and dwell time due to passenger movement is also induced for optimization problem."
      ]
    },
    {
      "cell_type": "code",
      "metadata": {
        "id": "vwnOqeN6UKoz",
        "colab_type": "code",
        "colab": {}
      },
      "source": [
        "optimal = pd.DataFrame(columns=['TRAINS','BLOCKS','OVERALL_AVG_TRAVEL_TIME','OVERALL_AVG_DELAY_TIME','THROUGHPUT'])\n",
        "\n",
        "def get_optimal():\n",
        "  global trains_list\n",
        "  global optimal\n",
        "  global TIME\n",
        "  TIME = 0\n",
        "  optimal.drop(optimal.index, inplace=True)\n",
        "  for i in range(19):\n",
        "    for j in range(15):\n",
        "      if i>0 and j>0:\n",
        "        trains_list = []\n",
        "        main(j,i,1,1,25200 ,79200,0)                                       # start time(First Train) = 7 am and Last Train = 10 pm\n",
        "        build_train_summary(trains_list)\n",
        "        avg = travel_time['TRAVEL_TIME'].mean()\n",
        "        # print(avg)\n",
        "        if avg < 0 :\n",
        "          break\n",
        "        else:  \n",
        "          avg1 = travel_time['DELAY_TIME'].mean()\n",
        "          fin = travel_time[travel_time.POSITION.eq(13)]\n",
        "          fin_avg = fin['TRAVEL_TIME'].mean()\n",
        "          record = {'TRAINS':i, 'BLOCKS':j, 'OVERALL_AVG_TRAVEL_TIME':round(avg,2),'OVERALL_AVG_DELAY_TIME':round(avg1,2),'THROUGHPUT':len(trains_list)}\n",
        "          optimal = optimal.append(record, ignore_index=True)"
      ],
      "execution_count": null,
      "outputs": []
    },
    {
      "cell_type": "code",
      "metadata": {
        "id": "S7QcafB6UZQH",
        "colab_type": "code",
        "colab": {
          "base_uri": "https://localhost:8080/",
          "height": 1000
        },
        "outputId": "fdc27e28-0ed5-4be2-bd0d-610960f7e673"
      },
      "source": [
        "get_optimal()"
      ],
      "execution_count": null,
      "outputs": [
        {
          "output_type": "stream",
          "text": [
            "Simulation Running... \n",
            "For 1 blocks and 1 input trains each block between LONDON OLD OAK and BIRMINGHAM INTERCHANGE is 145.0 km in length.\n",
            "Simulation Running... \n",
            "For 2 blocks and 1 input trains each block between LONDON OLD OAK and BIRMINGHAM INTERCHANGE is 72.5 km in length.\n",
            "Simulation Running... \n",
            "For 3 blocks and 1 input trains each block between LONDON OLD OAK and BIRMINGHAM INTERCHANGE is 48.3 km in length.\n",
            "Simulation Running... \n",
            "For 4 blocks and 1 input trains each block between LONDON OLD OAK and BIRMINGHAM INTERCHANGE is 36.2 km in length.\n",
            "Simulation Running... \n",
            "For 5 blocks and 1 input trains each block between LONDON OLD OAK and BIRMINGHAM INTERCHANGE is 29.0 km in length.\n",
            "Simulation Running... \n",
            "For 6 blocks and 1 input trains each block between LONDON OLD OAK and BIRMINGHAM INTERCHANGE is 24.2 km in length.\n",
            "Simulation Running... \n",
            "For 7 blocks and 1 input trains each block between LONDON OLD OAK and BIRMINGHAM INTERCHANGE is 20.7 km in length.\n",
            "Simulation Running... \n",
            "For 8 blocks and 1 input trains each block between LONDON OLD OAK and BIRMINGHAM INTERCHANGE is 18.1 km in length.\n",
            "Simulation Running... \n",
            "For 9 blocks and 1 input trains each block between LONDON OLD OAK and BIRMINGHAM INTERCHANGE is 16.1 km in length.\n",
            "Simulation Running... \n",
            "For 10 blocks and 1 input trains each block between LONDON OLD OAK and BIRMINGHAM INTERCHANGE is 14.5 km in length.\n",
            "Simulation Running... \n",
            "For 11 blocks and 1 input trains each block between LONDON OLD OAK and BIRMINGHAM INTERCHANGE is 13.2 km in length.\n",
            "Simulation Running... \n",
            "For 12 blocks and 1 input trains each block between LONDON OLD OAK and BIRMINGHAM INTERCHANGE is 12.1 km in length.\n",
            "Simulation Running... \n",
            "For 13 blocks and 1 input trains each block between LONDON OLD OAK and BIRMINGHAM INTERCHANGE is 11.2 km in length.\n",
            "Simulation Running... \n",
            "For 14 blocks and 1 input trains each block between LONDON OLD OAK and BIRMINGHAM INTERCHANGE is 10.4 km in length.\n",
            "Simulation Running... \n",
            "For 1 blocks and 2 input trains each block between LONDON OLD OAK and BIRMINGHAM INTERCHANGE is 145.0 km in length.\n",
            "Simulation Running... \n",
            "For 2 blocks and 2 input trains each block between LONDON OLD OAK and BIRMINGHAM INTERCHANGE is 72.5 km in length.\n",
            "Simulation Running... \n",
            "For 3 blocks and 2 input trains each block between LONDON OLD OAK and BIRMINGHAM INTERCHANGE is 48.3 km in length.\n",
            "Simulation Running... \n",
            "For 4 blocks and 2 input trains each block between LONDON OLD OAK and BIRMINGHAM INTERCHANGE is 36.2 km in length.\n",
            "Simulation Running... \n",
            "For 5 blocks and 2 input trains each block between LONDON OLD OAK and BIRMINGHAM INTERCHANGE is 29.0 km in length.\n",
            "Simulation Running... \n",
            "For 6 blocks and 2 input trains each block between LONDON OLD OAK and BIRMINGHAM INTERCHANGE is 24.2 km in length.\n",
            "Simulation Running... \n",
            "For 7 blocks and 2 input trains each block between LONDON OLD OAK and BIRMINGHAM INTERCHANGE is 20.7 km in length.\n",
            "Simulation Running... \n",
            "For 8 blocks and 2 input trains each block between LONDON OLD OAK and BIRMINGHAM INTERCHANGE is 18.1 km in length.\n",
            "Simulation Running... \n",
            "For 9 blocks and 2 input trains each block between LONDON OLD OAK and BIRMINGHAM INTERCHANGE is 16.1 km in length.\n",
            "Simulation Running... \n",
            "For 10 blocks and 2 input trains each block between LONDON OLD OAK and BIRMINGHAM INTERCHANGE is 14.5 km in length.\n",
            "Simulation Running... \n",
            "For 11 blocks and 2 input trains each block between LONDON OLD OAK and BIRMINGHAM INTERCHANGE is 13.2 km in length.\n",
            "Simulation Running... \n",
            "For 12 blocks and 2 input trains each block between LONDON OLD OAK and BIRMINGHAM INTERCHANGE is 12.1 km in length.\n",
            "Simulation Running... \n",
            "For 13 blocks and 2 input trains each block between LONDON OLD OAK and BIRMINGHAM INTERCHANGE is 11.2 km in length.\n",
            "Simulation Running... \n",
            "For 14 blocks and 2 input trains each block between LONDON OLD OAK and BIRMINGHAM INTERCHANGE is 10.4 km in length.\n",
            "Simulation Running... \n",
            "For 1 blocks and 3 input trains each block between LONDON OLD OAK and BIRMINGHAM INTERCHANGE is 145.0 km in length.\n",
            "Simulation Running... \n",
            "For 2 blocks and 3 input trains each block between LONDON OLD OAK and BIRMINGHAM INTERCHANGE is 72.5 km in length.\n",
            "Simulation Running... \n",
            "For 3 blocks and 3 input trains each block between LONDON OLD OAK and BIRMINGHAM INTERCHANGE is 48.3 km in length.\n",
            "Simulation Running... \n",
            "For 4 blocks and 3 input trains each block between LONDON OLD OAK and BIRMINGHAM INTERCHANGE is 36.2 km in length.\n",
            "Simulation Running... \n",
            "For 5 blocks and 3 input trains each block between LONDON OLD OAK and BIRMINGHAM INTERCHANGE is 29.0 km in length.\n",
            "Simulation Running... \n",
            "For 6 blocks and 3 input trains each block between LONDON OLD OAK and BIRMINGHAM INTERCHANGE is 24.2 km in length.\n",
            "Simulation Running... \n",
            "For 7 blocks and 3 input trains each block between LONDON OLD OAK and BIRMINGHAM INTERCHANGE is 20.7 km in length.\n",
            "Simulation Running... \n",
            "For 8 blocks and 3 input trains each block between LONDON OLD OAK and BIRMINGHAM INTERCHANGE is 18.1 km in length.\n",
            "Simulation Running... \n",
            "For 9 blocks and 3 input trains each block between LONDON OLD OAK and BIRMINGHAM INTERCHANGE is 16.1 km in length.\n",
            "Simulation Running... \n",
            "For 10 blocks and 3 input trains each block between LONDON OLD OAK and BIRMINGHAM INTERCHANGE is 14.5 km in length.\n",
            "Simulation Running... \n",
            "For 11 blocks and 3 input trains each block between LONDON OLD OAK and BIRMINGHAM INTERCHANGE is 13.2 km in length.\n",
            "Simulation Running... \n",
            "For 12 blocks and 3 input trains each block between LONDON OLD OAK and BIRMINGHAM INTERCHANGE is 12.1 km in length.\n",
            "Simulation Running... \n",
            "For 13 blocks and 3 input trains each block between LONDON OLD OAK and BIRMINGHAM INTERCHANGE is 11.2 km in length.\n",
            "Simulation Running... \n",
            "For 14 blocks and 3 input trains each block between LONDON OLD OAK and BIRMINGHAM INTERCHANGE is 10.4 km in length.\n",
            "Simulation Running... \n",
            "For 1 blocks and 4 input trains each block between LONDON OLD OAK and BIRMINGHAM INTERCHANGE is 145.0 km in length.\n",
            "Simulation Running... \n",
            "For 2 blocks and 4 input trains each block between LONDON OLD OAK and BIRMINGHAM INTERCHANGE is 72.5 km in length.\n",
            "Simulation Running... \n",
            "For 3 blocks and 4 input trains each block between LONDON OLD OAK and BIRMINGHAM INTERCHANGE is 48.3 km in length.\n",
            "Simulation Running... \n",
            "For 4 blocks and 4 input trains each block between LONDON OLD OAK and BIRMINGHAM INTERCHANGE is 36.2 km in length.\n",
            "Simulation Running... \n",
            "For 5 blocks and 4 input trains each block between LONDON OLD OAK and BIRMINGHAM INTERCHANGE is 29.0 km in length.\n",
            "Simulation Running... \n",
            "For 6 blocks and 4 input trains each block between LONDON OLD OAK and BIRMINGHAM INTERCHANGE is 24.2 km in length.\n",
            "Simulation Running... \n",
            "For 7 blocks and 4 input trains each block between LONDON OLD OAK and BIRMINGHAM INTERCHANGE is 20.7 km in length.\n",
            "Simulation Running... \n",
            "For 8 blocks and 4 input trains each block between LONDON OLD OAK and BIRMINGHAM INTERCHANGE is 18.1 km in length.\n",
            "Simulation Running... \n",
            "For 9 blocks and 4 input trains each block between LONDON OLD OAK and BIRMINGHAM INTERCHANGE is 16.1 km in length.\n",
            "Simulation Running... \n",
            "For 10 blocks and 4 input trains each block between LONDON OLD OAK and BIRMINGHAM INTERCHANGE is 14.5 km in length.\n",
            "Simulation Running... \n",
            "For 11 blocks and 4 input trains each block between LONDON OLD OAK and BIRMINGHAM INTERCHANGE is 13.2 km in length.\n",
            "Simulation Running... \n",
            "For 12 blocks and 4 input trains each block between LONDON OLD OAK and BIRMINGHAM INTERCHANGE is 12.1 km in length.\n",
            "Simulation Running... \n",
            "For 13 blocks and 4 input trains each block between LONDON OLD OAK and BIRMINGHAM INTERCHANGE is 11.2 km in length.\n",
            "Simulation Running... \n",
            "For 14 blocks and 4 input trains each block between LONDON OLD OAK and BIRMINGHAM INTERCHANGE is 10.4 km in length.\n",
            "Simulation Running... \n",
            "For 1 blocks and 5 input trains each block between LONDON OLD OAK and BIRMINGHAM INTERCHANGE is 145.0 km in length.\n",
            "Simulation Running... \n",
            "For 2 blocks and 5 input trains each block between LONDON OLD OAK and BIRMINGHAM INTERCHANGE is 72.5 km in length.\n",
            "Simulation Running... \n",
            "For 3 blocks and 5 input trains each block between LONDON OLD OAK and BIRMINGHAM INTERCHANGE is 48.3 km in length.\n",
            "Simulation Running... \n",
            "For 4 blocks and 5 input trains each block between LONDON OLD OAK and BIRMINGHAM INTERCHANGE is 36.2 km in length.\n",
            "Simulation Running... \n",
            "For 5 blocks and 5 input trains each block between LONDON OLD OAK and BIRMINGHAM INTERCHANGE is 29.0 km in length.\n",
            "Simulation Running... \n",
            "For 6 blocks and 5 input trains each block between LONDON OLD OAK and BIRMINGHAM INTERCHANGE is 24.2 km in length.\n",
            "Simulation Running... \n",
            "For 7 blocks and 5 input trains each block between LONDON OLD OAK and BIRMINGHAM INTERCHANGE is 20.7 km in length.\n",
            "Simulation Running... \n",
            "For 8 blocks and 5 input trains each block between LONDON OLD OAK and BIRMINGHAM INTERCHANGE is 18.1 km in length.\n",
            "Simulation Running... \n",
            "For 9 blocks and 5 input trains each block between LONDON OLD OAK and BIRMINGHAM INTERCHANGE is 16.1 km in length.\n",
            "Simulation Running... \n",
            "For 10 blocks and 5 input trains each block between LONDON OLD OAK and BIRMINGHAM INTERCHANGE is 14.5 km in length.\n",
            "Simulation Running... \n",
            "For 11 blocks and 5 input trains each block between LONDON OLD OAK and BIRMINGHAM INTERCHANGE is 13.2 km in length.\n",
            "Simulation Running... \n",
            "For 12 blocks and 5 input trains each block between LONDON OLD OAK and BIRMINGHAM INTERCHANGE is 12.1 km in length.\n",
            "Simulation Running... \n",
            "For 13 blocks and 5 input trains each block between LONDON OLD OAK and BIRMINGHAM INTERCHANGE is 11.2 km in length.\n",
            "Simulation Running... \n",
            "For 14 blocks and 5 input trains each block between LONDON OLD OAK and BIRMINGHAM INTERCHANGE is 10.4 km in length.\n",
            "Simulation Running... \n",
            "For 1 blocks and 6 input trains each block between LONDON OLD OAK and BIRMINGHAM INTERCHANGE is 145.0 km in length.\n",
            "Simulation Running... \n",
            "For 2 blocks and 6 input trains each block between LONDON OLD OAK and BIRMINGHAM INTERCHANGE is 72.5 km in length.\n",
            "Simulation Running... \n",
            "For 3 blocks and 6 input trains each block between LONDON OLD OAK and BIRMINGHAM INTERCHANGE is 48.3 km in length.\n",
            "Simulation Running... \n",
            "For 4 blocks and 6 input trains each block between LONDON OLD OAK and BIRMINGHAM INTERCHANGE is 36.2 km in length.\n",
            "Simulation Running... \n",
            "For 5 blocks and 6 input trains each block between LONDON OLD OAK and BIRMINGHAM INTERCHANGE is 29.0 km in length.\n",
            "Simulation Running... \n",
            "For 6 blocks and 6 input trains each block between LONDON OLD OAK and BIRMINGHAM INTERCHANGE is 24.2 km in length.\n",
            "Simulation Running... \n",
            "For 7 blocks and 6 input trains each block between LONDON OLD OAK and BIRMINGHAM INTERCHANGE is 20.7 km in length.\n",
            "Simulation Running... \n",
            "For 8 blocks and 6 input trains each block between LONDON OLD OAK and BIRMINGHAM INTERCHANGE is 18.1 km in length.\n",
            "Simulation Running... \n",
            "For 9 blocks and 6 input trains each block between LONDON OLD OAK and BIRMINGHAM INTERCHANGE is 16.1 km in length.\n",
            "Simulation Running... \n",
            "For 10 blocks and 6 input trains each block between LONDON OLD OAK and BIRMINGHAM INTERCHANGE is 14.5 km in length.\n",
            "Simulation Running... \n",
            "For 11 blocks and 6 input trains each block between LONDON OLD OAK and BIRMINGHAM INTERCHANGE is 13.2 km in length.\n",
            "Simulation Running... \n",
            "For 12 blocks and 6 input trains each block between LONDON OLD OAK and BIRMINGHAM INTERCHANGE is 12.1 km in length.\n",
            "Simulation Running... \n",
            "For 13 blocks and 6 input trains each block between LONDON OLD OAK and BIRMINGHAM INTERCHANGE is 11.2 km in length.\n",
            "Simulation Running... \n",
            "For 14 blocks and 6 input trains each block between LONDON OLD OAK and BIRMINGHAM INTERCHANGE is 10.4 km in length.\n",
            "Simulation Running... \n",
            "For 1 blocks and 7 input trains each block between LONDON OLD OAK and BIRMINGHAM INTERCHANGE is 145.0 km in length.\n",
            "Simulation Running... \n",
            "For 2 blocks and 7 input trains each block between LONDON OLD OAK and BIRMINGHAM INTERCHANGE is 72.5 km in length.\n",
            "Simulation Running... \n",
            "For 3 blocks and 7 input trains each block between LONDON OLD OAK and BIRMINGHAM INTERCHANGE is 48.3 km in length.\n",
            "Simulation Running... \n",
            "For 4 blocks and 7 input trains each block between LONDON OLD OAK and BIRMINGHAM INTERCHANGE is 36.2 km in length.\n",
            "Simulation Running... \n",
            "For 5 blocks and 7 input trains each block between LONDON OLD OAK and BIRMINGHAM INTERCHANGE is 29.0 km in length.\n",
            "Simulation Running... \n",
            "For 6 blocks and 7 input trains each block between LONDON OLD OAK and BIRMINGHAM INTERCHANGE is 24.2 km in length.\n",
            "Simulation Running... \n",
            "For 7 blocks and 7 input trains each block between LONDON OLD OAK and BIRMINGHAM INTERCHANGE is 20.7 km in length.\n",
            "Simulation Running... \n",
            "For 8 blocks and 7 input trains each block between LONDON OLD OAK and BIRMINGHAM INTERCHANGE is 18.1 km in length.\n",
            "Simulation Running... \n",
            "For 9 blocks and 7 input trains each block between LONDON OLD OAK and BIRMINGHAM INTERCHANGE is 16.1 km in length.\n",
            "Simulation Running... \n",
            "For 10 blocks and 7 input trains each block between LONDON OLD OAK and BIRMINGHAM INTERCHANGE is 14.5 km in length.\n",
            "Simulation Running... \n",
            "For 11 blocks and 7 input trains each block between LONDON OLD OAK and BIRMINGHAM INTERCHANGE is 13.2 km in length.\n",
            "Simulation Running... \n",
            "For 12 blocks and 7 input trains each block between LONDON OLD OAK and BIRMINGHAM INTERCHANGE is 12.1 km in length.\n",
            "Simulation Running... \n",
            "For 13 blocks and 7 input trains each block between LONDON OLD OAK and BIRMINGHAM INTERCHANGE is 11.2 km in length.\n",
            "Simulation Running... \n",
            "For 14 blocks and 7 input trains each block between LONDON OLD OAK and BIRMINGHAM INTERCHANGE is 10.4 km in length.\n",
            "Simulation Running... \n",
            "For 1 blocks and 8 input trains each block between LONDON OLD OAK and BIRMINGHAM INTERCHANGE is 145.0 km in length.\n",
            "Simulation Running... \n",
            "For 2 blocks and 8 input trains each block between LONDON OLD OAK and BIRMINGHAM INTERCHANGE is 72.5 km in length.\n",
            "Simulation Running... \n",
            "For 3 blocks and 8 input trains each block between LONDON OLD OAK and BIRMINGHAM INTERCHANGE is 48.3 km in length.\n",
            "Simulation Running... \n",
            "For 4 blocks and 8 input trains each block between LONDON OLD OAK and BIRMINGHAM INTERCHANGE is 36.2 km in length.\n",
            "Simulation Running... \n",
            "For 5 blocks and 8 input trains each block between LONDON OLD OAK and BIRMINGHAM INTERCHANGE is 29.0 km in length.\n",
            "Simulation Running... \n",
            "For 6 blocks and 8 input trains each block between LONDON OLD OAK and BIRMINGHAM INTERCHANGE is 24.2 km in length.\n",
            "Simulation Running... \n",
            "For 7 blocks and 8 input trains each block between LONDON OLD OAK and BIRMINGHAM INTERCHANGE is 20.7 km in length.\n",
            "Simulation Running... \n",
            "For 8 blocks and 8 input trains each block between LONDON OLD OAK and BIRMINGHAM INTERCHANGE is 18.1 km in length.\n",
            "Simulation Running... \n",
            "For 9 blocks and 8 input trains each block between LONDON OLD OAK and BIRMINGHAM INTERCHANGE is 16.1 km in length.\n",
            "Simulation Running... \n",
            "For 10 blocks and 8 input trains each block between LONDON OLD OAK and BIRMINGHAM INTERCHANGE is 14.5 km in length.\n",
            "Simulation Running... \n",
            "For 11 blocks and 8 input trains each block between LONDON OLD OAK and BIRMINGHAM INTERCHANGE is 13.2 km in length.\n",
            "Simulation Running... \n",
            "For 12 blocks and 8 input trains each block between LONDON OLD OAK and BIRMINGHAM INTERCHANGE is 12.1 km in length.\n",
            "Simulation Running... \n",
            "For 13 blocks and 8 input trains each block between LONDON OLD OAK and BIRMINGHAM INTERCHANGE is 11.2 km in length.\n",
            "Simulation Running... \n",
            "For 14 blocks and 8 input trains each block between LONDON OLD OAK and BIRMINGHAM INTERCHANGE is 10.4 km in length.\n",
            "Simulation Running... \n",
            "For 1 blocks and 9 input trains each block between LONDON OLD OAK and BIRMINGHAM INTERCHANGE is 145.0 km in length.\n",
            "Simulation Running... \n",
            "For 2 blocks and 9 input trains each block between LONDON OLD OAK and BIRMINGHAM INTERCHANGE is 72.5 km in length.\n",
            "Simulation Running... \n",
            "For 3 blocks and 9 input trains each block between LONDON OLD OAK and BIRMINGHAM INTERCHANGE is 48.3 km in length.\n",
            "Simulation Running... \n",
            "For 4 blocks and 9 input trains each block between LONDON OLD OAK and BIRMINGHAM INTERCHANGE is 36.2 km in length.\n",
            "Simulation Running... \n",
            "For 5 blocks and 9 input trains each block between LONDON OLD OAK and BIRMINGHAM INTERCHANGE is 29.0 km in length.\n",
            "Simulation Running... \n",
            "For 6 blocks and 9 input trains each block between LONDON OLD OAK and BIRMINGHAM INTERCHANGE is 24.2 km in length.\n",
            "Simulation Running... \n",
            "For 7 blocks and 9 input trains each block between LONDON OLD OAK and BIRMINGHAM INTERCHANGE is 20.7 km in length.\n",
            "Simulation Running... \n",
            "For 8 blocks and 9 input trains each block between LONDON OLD OAK and BIRMINGHAM INTERCHANGE is 18.1 km in length.\n",
            "Simulation Running... \n",
            "For 9 blocks and 9 input trains each block between LONDON OLD OAK and BIRMINGHAM INTERCHANGE is 16.1 km in length.\n",
            "Simulation Running... \n",
            "For 10 blocks and 9 input trains each block between LONDON OLD OAK and BIRMINGHAM INTERCHANGE is 14.5 km in length.\n",
            "Simulation Running... \n",
            "For 11 blocks and 9 input trains each block between LONDON OLD OAK and BIRMINGHAM INTERCHANGE is 13.2 km in length.\n",
            "Simulation Running... \n",
            "For 12 blocks and 9 input trains each block between LONDON OLD OAK and BIRMINGHAM INTERCHANGE is 12.1 km in length.\n",
            "Simulation Running... \n",
            "For 13 blocks and 9 input trains each block between LONDON OLD OAK and BIRMINGHAM INTERCHANGE is 11.2 km in length.\n",
            "Simulation Running... \n",
            "For 14 blocks and 9 input trains each block between LONDON OLD OAK and BIRMINGHAM INTERCHANGE is 10.4 km in length.\n",
            "Simulation Running... \n",
            "For 1 blocks and 10 input trains each block between LONDON OLD OAK and BIRMINGHAM INTERCHANGE is 145.0 km in length.\n",
            "Simulation Running... \n",
            "For 2 blocks and 10 input trains each block between LONDON OLD OAK and BIRMINGHAM INTERCHANGE is 72.5 km in length.\n",
            "Simulation Running... \n",
            "For 3 blocks and 10 input trains each block between LONDON OLD OAK and BIRMINGHAM INTERCHANGE is 48.3 km in length.\n",
            "Simulation Running... \n",
            "For 4 blocks and 10 input trains each block between LONDON OLD OAK and BIRMINGHAM INTERCHANGE is 36.2 km in length.\n",
            "Simulation Running... \n",
            "For 5 blocks and 10 input trains each block between LONDON OLD OAK and BIRMINGHAM INTERCHANGE is 29.0 km in length.\n",
            "Simulation Running... \n",
            "For 6 blocks and 10 input trains each block between LONDON OLD OAK and BIRMINGHAM INTERCHANGE is 24.2 km in length.\n",
            "Simulation Running... \n",
            "For 7 blocks and 10 input trains each block between LONDON OLD OAK and BIRMINGHAM INTERCHANGE is 20.7 km in length.\n",
            "Simulation Running... \n",
            "For 8 blocks and 10 input trains each block between LONDON OLD OAK and BIRMINGHAM INTERCHANGE is 18.1 km in length.\n",
            "Simulation Running... \n",
            "For 9 blocks and 10 input trains each block between LONDON OLD OAK and BIRMINGHAM INTERCHANGE is 16.1 km in length.\n",
            "Simulation Running... \n",
            "For 10 blocks and 10 input trains each block between LONDON OLD OAK and BIRMINGHAM INTERCHANGE is 14.5 km in length.\n",
            "Simulation Running... \n",
            "For 11 blocks and 10 input trains each block between LONDON OLD OAK and BIRMINGHAM INTERCHANGE is 13.2 km in length.\n",
            "Simulation Running... \n",
            "For 12 blocks and 10 input trains each block between LONDON OLD OAK and BIRMINGHAM INTERCHANGE is 12.1 km in length.\n",
            "Simulation Running... \n",
            "For 13 blocks and 10 input trains each block between LONDON OLD OAK and BIRMINGHAM INTERCHANGE is 11.2 km in length.\n",
            "Simulation Running... \n",
            "For 14 blocks and 10 input trains each block between LONDON OLD OAK and BIRMINGHAM INTERCHANGE is 10.4 km in length.\n",
            "Simulation Running... \n",
            "For 1 blocks and 11 input trains each block between LONDON OLD OAK and BIRMINGHAM INTERCHANGE is 145.0 km in length.\n",
            "Simulation Running... \n",
            "For 2 blocks and 11 input trains each block between LONDON OLD OAK and BIRMINGHAM INTERCHANGE is 72.5 km in length.\n",
            "Simulation Running... \n",
            "For 3 blocks and 11 input trains each block between LONDON OLD OAK and BIRMINGHAM INTERCHANGE is 48.3 km in length.\n",
            "Simulation Running... \n",
            "For 4 blocks and 11 input trains each block between LONDON OLD OAK and BIRMINGHAM INTERCHANGE is 36.2 km in length.\n",
            "Simulation Running... \n",
            "For 5 blocks and 11 input trains each block between LONDON OLD OAK and BIRMINGHAM INTERCHANGE is 29.0 km in length.\n",
            "Simulation Running... \n",
            "For 6 blocks and 11 input trains each block between LONDON OLD OAK and BIRMINGHAM INTERCHANGE is 24.2 km in length.\n",
            "Simulation Running... \n",
            "For 7 blocks and 11 input trains each block between LONDON OLD OAK and BIRMINGHAM INTERCHANGE is 20.7 km in length.\n",
            "Simulation Running... \n",
            "For 8 blocks and 11 input trains each block between LONDON OLD OAK and BIRMINGHAM INTERCHANGE is 18.1 km in length.\n",
            "Simulation Running... \n",
            "For 9 blocks and 11 input trains each block between LONDON OLD OAK and BIRMINGHAM INTERCHANGE is 16.1 km in length.\n",
            "Simulation Running... \n",
            "For 10 blocks and 11 input trains each block between LONDON OLD OAK and BIRMINGHAM INTERCHANGE is 14.5 km in length.\n",
            "Simulation Running... \n",
            "For 11 blocks and 11 input trains each block between LONDON OLD OAK and BIRMINGHAM INTERCHANGE is 13.2 km in length.\n",
            "Simulation Running... \n",
            "For 12 blocks and 11 input trains each block between LONDON OLD OAK and BIRMINGHAM INTERCHANGE is 12.1 km in length.\n",
            "Simulation Running... \n",
            "For 13 blocks and 11 input trains each block between LONDON OLD OAK and BIRMINGHAM INTERCHANGE is 11.2 km in length.\n",
            "Simulation Running... \n",
            "For 14 blocks and 11 input trains each block between LONDON OLD OAK and BIRMINGHAM INTERCHANGE is 10.4 km in length.\n",
            "Simulation Running... \n",
            "For 1 blocks and 12 input trains each block between LONDON OLD OAK and BIRMINGHAM INTERCHANGE is 145.0 km in length.\n",
            "Simulation Running... \n",
            "For 2 blocks and 12 input trains each block between LONDON OLD OAK and BIRMINGHAM INTERCHANGE is 72.5 km in length.\n",
            "Simulation Running... \n",
            "For 3 blocks and 12 input trains each block between LONDON OLD OAK and BIRMINGHAM INTERCHANGE is 48.3 km in length.\n",
            "Simulation Running... \n",
            "For 4 blocks and 12 input trains each block between LONDON OLD OAK and BIRMINGHAM INTERCHANGE is 36.2 km in length.\n",
            "Simulation Running... \n",
            "For 5 blocks and 12 input trains each block between LONDON OLD OAK and BIRMINGHAM INTERCHANGE is 29.0 km in length.\n",
            "Simulation Running... \n",
            "For 6 blocks and 12 input trains each block between LONDON OLD OAK and BIRMINGHAM INTERCHANGE is 24.2 km in length.\n",
            "Simulation Running... \n",
            "For 7 blocks and 12 input trains each block between LONDON OLD OAK and BIRMINGHAM INTERCHANGE is 20.7 km in length.\n",
            "Simulation Running... \n",
            "For 8 blocks and 12 input trains each block between LONDON OLD OAK and BIRMINGHAM INTERCHANGE is 18.1 km in length.\n",
            "Simulation Running... \n",
            "For 9 blocks and 12 input trains each block between LONDON OLD OAK and BIRMINGHAM INTERCHANGE is 16.1 km in length.\n",
            "Simulation Running... \n",
            "For 10 blocks and 12 input trains each block between LONDON OLD OAK and BIRMINGHAM INTERCHANGE is 14.5 km in length.\n",
            "Simulation Running... \n",
            "For 11 blocks and 12 input trains each block between LONDON OLD OAK and BIRMINGHAM INTERCHANGE is 13.2 km in length.\n",
            "Simulation Running... \n",
            "For 12 blocks and 12 input trains each block between LONDON OLD OAK and BIRMINGHAM INTERCHANGE is 12.1 km in length.\n",
            "Simulation Running... \n",
            "For 13 blocks and 12 input trains each block between LONDON OLD OAK and BIRMINGHAM INTERCHANGE is 11.2 km in length.\n",
            "Simulation Running... \n",
            "For 14 blocks and 12 input trains each block between LONDON OLD OAK and BIRMINGHAM INTERCHANGE is 10.4 km in length.\n",
            "Simulation Running... \n",
            "For 1 blocks and 13 input trains each block between LONDON OLD OAK and BIRMINGHAM INTERCHANGE is 145.0 km in length.\n",
            "Simulation Running... \n",
            "For 2 blocks and 13 input trains each block between LONDON OLD OAK and BIRMINGHAM INTERCHANGE is 72.5 km in length.\n",
            "Simulation Running... \n",
            "For 3 blocks and 13 input trains each block between LONDON OLD OAK and BIRMINGHAM INTERCHANGE is 48.3 km in length.\n",
            "Simulation Running... \n",
            "For 4 blocks and 13 input trains each block between LONDON OLD OAK and BIRMINGHAM INTERCHANGE is 36.2 km in length.\n",
            "Simulation Running... \n",
            "For 5 blocks and 13 input trains each block between LONDON OLD OAK and BIRMINGHAM INTERCHANGE is 29.0 km in length.\n",
            "Simulation Running... \n",
            "For 6 blocks and 13 input trains each block between LONDON OLD OAK and BIRMINGHAM INTERCHANGE is 24.2 km in length.\n",
            "Simulation Running... \n",
            "For 7 blocks and 13 input trains each block between LONDON OLD OAK and BIRMINGHAM INTERCHANGE is 20.7 km in length.\n",
            "Simulation Running... \n",
            "For 8 blocks and 13 input trains each block between LONDON OLD OAK and BIRMINGHAM INTERCHANGE is 18.1 km in length.\n",
            "Simulation Running... \n",
            "For 9 blocks and 13 input trains each block between LONDON OLD OAK and BIRMINGHAM INTERCHANGE is 16.1 km in length.\n",
            "Simulation Running... \n",
            "For 10 blocks and 13 input trains each block between LONDON OLD OAK and BIRMINGHAM INTERCHANGE is 14.5 km in length.\n",
            "Simulation Running... \n",
            "For 11 blocks and 13 input trains each block between LONDON OLD OAK and BIRMINGHAM INTERCHANGE is 13.2 km in length.\n",
            "Simulation Running... \n",
            "For 12 blocks and 13 input trains each block between LONDON OLD OAK and BIRMINGHAM INTERCHANGE is 12.1 km in length.\n",
            "Simulation Running... \n",
            "For 13 blocks and 13 input trains each block between LONDON OLD OAK and BIRMINGHAM INTERCHANGE is 11.2 km in length.\n",
            "Simulation Running... \n",
            "For 14 blocks and 13 input trains each block between LONDON OLD OAK and BIRMINGHAM INTERCHANGE is 10.4 km in length.\n",
            "Simulation Running... \n",
            "For 1 blocks and 14 input trains each block between LONDON OLD OAK and BIRMINGHAM INTERCHANGE is 145.0 km in length.\n",
            "Simulation Running... \n",
            "For 2 blocks and 14 input trains each block between LONDON OLD OAK and BIRMINGHAM INTERCHANGE is 72.5 km in length.\n",
            "Simulation Running... \n",
            "For 3 blocks and 14 input trains each block between LONDON OLD OAK and BIRMINGHAM INTERCHANGE is 48.3 km in length.\n",
            "Simulation Running... \n",
            "For 4 blocks and 14 input trains each block between LONDON OLD OAK and BIRMINGHAM INTERCHANGE is 36.2 km in length.\n",
            "Simulation Running... \n",
            "For 5 blocks and 14 input trains each block between LONDON OLD OAK and BIRMINGHAM INTERCHANGE is 29.0 km in length.\n",
            "Simulation Running... \n",
            "For 6 blocks and 14 input trains each block between LONDON OLD OAK and BIRMINGHAM INTERCHANGE is 24.2 km in length.\n",
            "Simulation Running... \n",
            "For 7 blocks and 14 input trains each block between LONDON OLD OAK and BIRMINGHAM INTERCHANGE is 20.7 km in length.\n",
            "Simulation Running... \n",
            "For 8 blocks and 14 input trains each block between LONDON OLD OAK and BIRMINGHAM INTERCHANGE is 18.1 km in length.\n",
            "Simulation Running... \n",
            "For 9 blocks and 14 input trains each block between LONDON OLD OAK and BIRMINGHAM INTERCHANGE is 16.1 km in length.\n",
            "Simulation Running... \n",
            "For 10 blocks and 14 input trains each block between LONDON OLD OAK and BIRMINGHAM INTERCHANGE is 14.5 km in length.\n",
            "Simulation Running... \n",
            "For 11 blocks and 14 input trains each block between LONDON OLD OAK and BIRMINGHAM INTERCHANGE is 13.2 km in length.\n",
            "Simulation Running... \n",
            "For 12 blocks and 14 input trains each block between LONDON OLD OAK and BIRMINGHAM INTERCHANGE is 12.1 km in length.\n",
            "Simulation Running... \n",
            "For 13 blocks and 14 input trains each block between LONDON OLD OAK and BIRMINGHAM INTERCHANGE is 11.2 km in length.\n",
            "Simulation Running... \n",
            "For 14 blocks and 14 input trains each block between LONDON OLD OAK and BIRMINGHAM INTERCHANGE is 10.4 km in length.\n",
            "Simulation Running... \n",
            "For 1 blocks and 15 input trains each block between LONDON OLD OAK and BIRMINGHAM INTERCHANGE is 145.0 km in length.\n",
            "Simulation Running... \n",
            "For 2 blocks and 15 input trains each block between LONDON OLD OAK and BIRMINGHAM INTERCHANGE is 72.5 km in length.\n",
            "Simulation Running... \n",
            "For 3 blocks and 15 input trains each block between LONDON OLD OAK and BIRMINGHAM INTERCHANGE is 48.3 km in length.\n",
            "Simulation Running... \n",
            "For 4 blocks and 15 input trains each block between LONDON OLD OAK and BIRMINGHAM INTERCHANGE is 36.2 km in length.\n",
            "Simulation Running... \n",
            "For 5 blocks and 15 input trains each block between LONDON OLD OAK and BIRMINGHAM INTERCHANGE is 29.0 km in length.\n",
            "Simulation Running... \n",
            "For 6 blocks and 15 input trains each block between LONDON OLD OAK and BIRMINGHAM INTERCHANGE is 24.2 km in length.\n",
            "Simulation Running... \n",
            "For 7 blocks and 15 input trains each block between LONDON OLD OAK and BIRMINGHAM INTERCHANGE is 20.7 km in length.\n",
            "Simulation Running... \n",
            "For 8 blocks and 15 input trains each block between LONDON OLD OAK and BIRMINGHAM INTERCHANGE is 18.1 km in length.\n",
            "Simulation Running... \n",
            "For 9 blocks and 15 input trains each block between LONDON OLD OAK and BIRMINGHAM INTERCHANGE is 16.1 km in length.\n",
            "Simulation Running... \n",
            "For 10 blocks and 15 input trains each block between LONDON OLD OAK and BIRMINGHAM INTERCHANGE is 14.5 km in length.\n",
            "Simulation Running... \n",
            "For 11 blocks and 15 input trains each block between LONDON OLD OAK and BIRMINGHAM INTERCHANGE is 13.2 km in length.\n",
            "Simulation Running... \n",
            "For 12 blocks and 15 input trains each block between LONDON OLD OAK and BIRMINGHAM INTERCHANGE is 12.1 km in length.\n",
            "Simulation Running... \n",
            "For 13 blocks and 15 input trains each block between LONDON OLD OAK and BIRMINGHAM INTERCHANGE is 11.2 km in length.\n",
            "Simulation Running... \n",
            "For 14 blocks and 15 input trains each block between LONDON OLD OAK and BIRMINGHAM INTERCHANGE is 10.4 km in length.\n",
            "Simulation Running... \n",
            "For 1 blocks and 16 input trains each block between LONDON OLD OAK and BIRMINGHAM INTERCHANGE is 145.0 km in length.\n",
            "Simulation Running... \n",
            "For 2 blocks and 16 input trains each block between LONDON OLD OAK and BIRMINGHAM INTERCHANGE is 72.5 km in length.\n",
            "Simulation Running... \n",
            "For 3 blocks and 16 input trains each block between LONDON OLD OAK and BIRMINGHAM INTERCHANGE is 48.3 km in length.\n",
            "Simulation Running... \n",
            "For 4 blocks and 16 input trains each block between LONDON OLD OAK and BIRMINGHAM INTERCHANGE is 36.2 km in length.\n",
            "Simulation Running... \n",
            "For 5 blocks and 16 input trains each block between LONDON OLD OAK and BIRMINGHAM INTERCHANGE is 29.0 km in length.\n",
            "Simulation Running... \n",
            "For 6 blocks and 16 input trains each block between LONDON OLD OAK and BIRMINGHAM INTERCHANGE is 24.2 km in length.\n",
            "Simulation Running... \n",
            "For 7 blocks and 16 input trains each block between LONDON OLD OAK and BIRMINGHAM INTERCHANGE is 20.7 km in length.\n",
            "Simulation Running... \n",
            "For 8 blocks and 16 input trains each block between LONDON OLD OAK and BIRMINGHAM INTERCHANGE is 18.1 km in length.\n",
            "Simulation Running... \n",
            "For 9 blocks and 16 input trains each block between LONDON OLD OAK and BIRMINGHAM INTERCHANGE is 16.1 km in length.\n",
            "Simulation Running... \n",
            "For 10 blocks and 16 input trains each block between LONDON OLD OAK and BIRMINGHAM INTERCHANGE is 14.5 km in length.\n",
            "Simulation Running... \n",
            "For 11 blocks and 16 input trains each block between LONDON OLD OAK and BIRMINGHAM INTERCHANGE is 13.2 km in length.\n",
            "Simulation Running... \n",
            "For 12 blocks and 16 input trains each block between LONDON OLD OAK and BIRMINGHAM INTERCHANGE is 12.1 km in length.\n",
            "Simulation Running... \n",
            "For 13 blocks and 16 input trains each block between LONDON OLD OAK and BIRMINGHAM INTERCHANGE is 11.2 km in length.\n",
            "Simulation Running... \n",
            "For 14 blocks and 16 input trains each block between LONDON OLD OAK and BIRMINGHAM INTERCHANGE is 10.4 km in length.\n",
            "Simulation Running... \n",
            "For 1 blocks and 17 input trains each block between LONDON OLD OAK and BIRMINGHAM INTERCHANGE is 145.0 km in length.\n",
            "Simulation Running... \n",
            "For 2 blocks and 17 input trains each block between LONDON OLD OAK and BIRMINGHAM INTERCHANGE is 72.5 km in length.\n",
            "Simulation Running... \n",
            "For 3 blocks and 17 input trains each block between LONDON OLD OAK and BIRMINGHAM INTERCHANGE is 48.3 km in length.\n",
            "Simulation Running... \n",
            "For 4 blocks and 17 input trains each block between LONDON OLD OAK and BIRMINGHAM INTERCHANGE is 36.2 km in length.\n",
            "Simulation Running... \n",
            "For 5 blocks and 17 input trains each block between LONDON OLD OAK and BIRMINGHAM INTERCHANGE is 29.0 km in length.\n",
            "Simulation Running... \n",
            "For 6 blocks and 17 input trains each block between LONDON OLD OAK and BIRMINGHAM INTERCHANGE is 24.2 km in length.\n",
            "Simulation Running... \n",
            "For 7 blocks and 17 input trains each block between LONDON OLD OAK and BIRMINGHAM INTERCHANGE is 20.7 km in length.\n",
            "Simulation Running... \n",
            "For 8 blocks and 17 input trains each block between LONDON OLD OAK and BIRMINGHAM INTERCHANGE is 18.1 km in length.\n",
            "Simulation Running... \n",
            "For 9 blocks and 17 input trains each block between LONDON OLD OAK and BIRMINGHAM INTERCHANGE is 16.1 km in length.\n",
            "Simulation Running... \n",
            "For 10 blocks and 17 input trains each block between LONDON OLD OAK and BIRMINGHAM INTERCHANGE is 14.5 km in length.\n",
            "Simulation Running... \n",
            "For 11 blocks and 17 input trains each block between LONDON OLD OAK and BIRMINGHAM INTERCHANGE is 13.2 km in length.\n",
            "Simulation Running... \n",
            "For 12 blocks and 17 input trains each block between LONDON OLD OAK and BIRMINGHAM INTERCHANGE is 12.1 km in length.\n",
            "Simulation Running... \n",
            "For 13 blocks and 17 input trains each block between LONDON OLD OAK and BIRMINGHAM INTERCHANGE is 11.2 km in length.\n",
            "Simulation Running... \n",
            "For 14 blocks and 17 input trains each block between LONDON OLD OAK and BIRMINGHAM INTERCHANGE is 10.4 km in length.\n",
            "Simulation Running... \n",
            "For 1 blocks and 18 input trains each block between LONDON OLD OAK and BIRMINGHAM INTERCHANGE is 145.0 km in length.\n",
            "Simulation Running... \n",
            "For 2 blocks and 18 input trains each block between LONDON OLD OAK and BIRMINGHAM INTERCHANGE is 72.5 km in length.\n",
            "Simulation Running... \n",
            "For 3 blocks and 18 input trains each block between LONDON OLD OAK and BIRMINGHAM INTERCHANGE is 48.3 km in length.\n",
            "Simulation Running... \n",
            "For 4 blocks and 18 input trains each block between LONDON OLD OAK and BIRMINGHAM INTERCHANGE is 36.2 km in length.\n",
            "Simulation Running... \n",
            "For 5 blocks and 18 input trains each block between LONDON OLD OAK and BIRMINGHAM INTERCHANGE is 29.0 km in length.\n",
            "Simulation Running... \n",
            "For 6 blocks and 18 input trains each block between LONDON OLD OAK and BIRMINGHAM INTERCHANGE is 24.2 km in length.\n",
            "Simulation Running... \n",
            "For 7 blocks and 18 input trains each block between LONDON OLD OAK and BIRMINGHAM INTERCHANGE is 20.7 km in length.\n",
            "Simulation Running... \n",
            "For 8 blocks and 18 input trains each block between LONDON OLD OAK and BIRMINGHAM INTERCHANGE is 18.1 km in length.\n",
            "Simulation Running... \n",
            "For 9 blocks and 18 input trains each block between LONDON OLD OAK and BIRMINGHAM INTERCHANGE is 16.1 km in length.\n",
            "Simulation Running... \n",
            "For 10 blocks and 18 input trains each block between LONDON OLD OAK and BIRMINGHAM INTERCHANGE is 14.5 km in length.\n",
            "Simulation Running... \n",
            "For 11 blocks and 18 input trains each block between LONDON OLD OAK and BIRMINGHAM INTERCHANGE is 13.2 km in length.\n",
            "Simulation Running... \n",
            "For 12 blocks and 18 input trains each block between LONDON OLD OAK and BIRMINGHAM INTERCHANGE is 12.1 km in length.\n",
            "Simulation Running... \n",
            "For 13 blocks and 18 input trains each block between LONDON OLD OAK and BIRMINGHAM INTERCHANGE is 11.2 km in length.\n",
            "Simulation Running... \n",
            "For 14 blocks and 18 input trains each block between LONDON OLD OAK and BIRMINGHAM INTERCHANGE is 10.4 km in length.\n"
          ],
          "name": "stdout"
        }
      ]
    },
    {
      "cell_type": "code",
      "metadata": {
        "id": "A529G-85UaaM",
        "colab_type": "code",
        "colab": {
          "base_uri": "https://localhost:8080/",
          "height": 419
        },
        "outputId": "3210386a-b2cc-4f03-c15d-f48462f8d294"
      },
      "source": [
        "optimal\n"
      ],
      "execution_count": null,
      "outputs": [
        {
          "output_type": "execute_result",
          "data": {
            "text/html": [
              "<div>\n",
              "<style scoped>\n",
              "    .dataframe tbody tr th:only-of-type {\n",
              "        vertical-align: middle;\n",
              "    }\n",
              "\n",
              "    .dataframe tbody tr th {\n",
              "        vertical-align: top;\n",
              "    }\n",
              "\n",
              "    .dataframe thead th {\n",
              "        text-align: right;\n",
              "    }\n",
              "</style>\n",
              "<table border=\"1\" class=\"dataframe\">\n",
              "  <thead>\n",
              "    <tr style=\"text-align: right;\">\n",
              "      <th></th>\n",
              "      <th>TRAINS</th>\n",
              "      <th>BLOCKS</th>\n",
              "      <th>OVERALL_AVG_TRAVEL_TIME</th>\n",
              "      <th>OVERALL_AVG_DELAY_TIME</th>\n",
              "      <th>THROUGHPUT</th>\n",
              "    </tr>\n",
              "  </thead>\n",
              "  <tbody>\n",
              "    <tr>\n",
              "      <th>0</th>\n",
              "      <td>1.0</td>\n",
              "      <td>1.0</td>\n",
              "      <td>1959.08</td>\n",
              "      <td>54.16</td>\n",
              "      <td>1.0</td>\n",
              "    </tr>\n",
              "    <tr>\n",
              "      <th>1</th>\n",
              "      <td>1.0</td>\n",
              "      <td>2.0</td>\n",
              "      <td>1959.06</td>\n",
              "      <td>54.15</td>\n",
              "      <td>1.0</td>\n",
              "    </tr>\n",
              "    <tr>\n",
              "      <th>2</th>\n",
              "      <td>1.0</td>\n",
              "      <td>3.0</td>\n",
              "      <td>1959.05</td>\n",
              "      <td>54.16</td>\n",
              "      <td>1.0</td>\n",
              "    </tr>\n",
              "    <tr>\n",
              "      <th>3</th>\n",
              "      <td>1.0</td>\n",
              "      <td>4.0</td>\n",
              "      <td>1959.04</td>\n",
              "      <td>54.16</td>\n",
              "      <td>1.0</td>\n",
              "    </tr>\n",
              "    <tr>\n",
              "      <th>4</th>\n",
              "      <td>1.0</td>\n",
              "      <td>5.0</td>\n",
              "      <td>1959.03</td>\n",
              "      <td>54.15</td>\n",
              "      <td>1.0</td>\n",
              "    </tr>\n",
              "    <tr>\n",
              "      <th>...</th>\n",
              "      <td>...</td>\n",
              "      <td>...</td>\n",
              "      <td>...</td>\n",
              "      <td>...</td>\n",
              "      <td>...</td>\n",
              "    </tr>\n",
              "    <tr>\n",
              "      <th>247</th>\n",
              "      <td>18.0</td>\n",
              "      <td>10.0</td>\n",
              "      <td>1959.22</td>\n",
              "      <td>54.64</td>\n",
              "      <td>18.0</td>\n",
              "    </tr>\n",
              "    <tr>\n",
              "      <th>248</th>\n",
              "      <td>18.0</td>\n",
              "      <td>11.0</td>\n",
              "      <td>1959.30</td>\n",
              "      <td>54.66</td>\n",
              "      <td>18.0</td>\n",
              "    </tr>\n",
              "    <tr>\n",
              "      <th>249</th>\n",
              "      <td>18.0</td>\n",
              "      <td>12.0</td>\n",
              "      <td>1959.35</td>\n",
              "      <td>54.63</td>\n",
              "      <td>18.0</td>\n",
              "    </tr>\n",
              "    <tr>\n",
              "      <th>250</th>\n",
              "      <td>18.0</td>\n",
              "      <td>13.0</td>\n",
              "      <td>1959.41</td>\n",
              "      <td>54.59</td>\n",
              "      <td>18.0</td>\n",
              "    </tr>\n",
              "    <tr>\n",
              "      <th>251</th>\n",
              "      <td>18.0</td>\n",
              "      <td>14.0</td>\n",
              "      <td>1959.58</td>\n",
              "      <td>54.65</td>\n",
              "      <td>18.0</td>\n",
              "    </tr>\n",
              "  </tbody>\n",
              "</table>\n",
              "<p>252 rows × 5 columns</p>\n",
              "</div>"
            ],
            "text/plain": [
              "     TRAINS  BLOCKS  ...  OVERALL_AVG_DELAY_TIME  THROUGHPUT\n",
              "0       1.0     1.0  ...                   54.16         1.0\n",
              "1       1.0     2.0  ...                   54.15         1.0\n",
              "2       1.0     3.0  ...                   54.16         1.0\n",
              "3       1.0     4.0  ...                   54.16         1.0\n",
              "4       1.0     5.0  ...                   54.15         1.0\n",
              "..      ...     ...  ...                     ...         ...\n",
              "247    18.0    10.0  ...                   54.64        18.0\n",
              "248    18.0    11.0  ...                   54.66        18.0\n",
              "249    18.0    12.0  ...                   54.63        18.0\n",
              "250    18.0    13.0  ...                   54.59        18.0\n",
              "251    18.0    14.0  ...                   54.65        18.0\n",
              "\n",
              "[252 rows x 5 columns]"
            ]
          },
          "metadata": {
            "tags": []
          },
          "execution_count": 54
        }
      ]
    },
    {
      "cell_type": "code",
      "metadata": {
        "id": "9YAH5CtzWO40",
        "colab_type": "code",
        "colab": {
          "base_uri": "https://localhost:8080/",
          "height": 419
        },
        "outputId": "67372c26-f889-474f-c00d-d875e4169ec3"
      },
      "source": [
        "optimal[optimal.OVERALL_AVG_DELAY_TIME <= 0.5*5*60]"
      ],
      "execution_count": null,
      "outputs": [
        {
          "output_type": "execute_result",
          "data": {
            "text/html": [
              "<div>\n",
              "<style scoped>\n",
              "    .dataframe tbody tr th:only-of-type {\n",
              "        vertical-align: middle;\n",
              "    }\n",
              "\n",
              "    .dataframe tbody tr th {\n",
              "        vertical-align: top;\n",
              "    }\n",
              "\n",
              "    .dataframe thead th {\n",
              "        text-align: right;\n",
              "    }\n",
              "</style>\n",
              "<table border=\"1\" class=\"dataframe\">\n",
              "  <thead>\n",
              "    <tr style=\"text-align: right;\">\n",
              "      <th></th>\n",
              "      <th>TRAINS</th>\n",
              "      <th>BLOCKS</th>\n",
              "      <th>OVERALL_AVG_TRAVEL_TIME</th>\n",
              "      <th>OVERALL_AVG_DELAY_TIME</th>\n",
              "      <th>THROUGHPUT</th>\n",
              "    </tr>\n",
              "  </thead>\n",
              "  <tbody>\n",
              "    <tr>\n",
              "      <th>0</th>\n",
              "      <td>1.0</td>\n",
              "      <td>1.0</td>\n",
              "      <td>1959.08</td>\n",
              "      <td>54.16</td>\n",
              "      <td>1.0</td>\n",
              "    </tr>\n",
              "    <tr>\n",
              "      <th>1</th>\n",
              "      <td>1.0</td>\n",
              "      <td>2.0</td>\n",
              "      <td>1959.06</td>\n",
              "      <td>54.15</td>\n",
              "      <td>1.0</td>\n",
              "    </tr>\n",
              "    <tr>\n",
              "      <th>2</th>\n",
              "      <td>1.0</td>\n",
              "      <td>3.0</td>\n",
              "      <td>1959.05</td>\n",
              "      <td>54.16</td>\n",
              "      <td>1.0</td>\n",
              "    </tr>\n",
              "    <tr>\n",
              "      <th>3</th>\n",
              "      <td>1.0</td>\n",
              "      <td>4.0</td>\n",
              "      <td>1959.04</td>\n",
              "      <td>54.16</td>\n",
              "      <td>1.0</td>\n",
              "    </tr>\n",
              "    <tr>\n",
              "      <th>4</th>\n",
              "      <td>1.0</td>\n",
              "      <td>5.0</td>\n",
              "      <td>1959.03</td>\n",
              "      <td>54.15</td>\n",
              "      <td>1.0</td>\n",
              "    </tr>\n",
              "    <tr>\n",
              "      <th>...</th>\n",
              "      <td>...</td>\n",
              "      <td>...</td>\n",
              "      <td>...</td>\n",
              "      <td>...</td>\n",
              "      <td>...</td>\n",
              "    </tr>\n",
              "    <tr>\n",
              "      <th>247</th>\n",
              "      <td>18.0</td>\n",
              "      <td>10.0</td>\n",
              "      <td>1959.22</td>\n",
              "      <td>54.64</td>\n",
              "      <td>18.0</td>\n",
              "    </tr>\n",
              "    <tr>\n",
              "      <th>248</th>\n",
              "      <td>18.0</td>\n",
              "      <td>11.0</td>\n",
              "      <td>1959.30</td>\n",
              "      <td>54.66</td>\n",
              "      <td>18.0</td>\n",
              "    </tr>\n",
              "    <tr>\n",
              "      <th>249</th>\n",
              "      <td>18.0</td>\n",
              "      <td>12.0</td>\n",
              "      <td>1959.35</td>\n",
              "      <td>54.63</td>\n",
              "      <td>18.0</td>\n",
              "    </tr>\n",
              "    <tr>\n",
              "      <th>250</th>\n",
              "      <td>18.0</td>\n",
              "      <td>13.0</td>\n",
              "      <td>1959.41</td>\n",
              "      <td>54.59</td>\n",
              "      <td>18.0</td>\n",
              "    </tr>\n",
              "    <tr>\n",
              "      <th>251</th>\n",
              "      <td>18.0</td>\n",
              "      <td>14.0</td>\n",
              "      <td>1959.58</td>\n",
              "      <td>54.65</td>\n",
              "      <td>18.0</td>\n",
              "    </tr>\n",
              "  </tbody>\n",
              "</table>\n",
              "<p>252 rows × 5 columns</p>\n",
              "</div>"
            ],
            "text/plain": [
              "     TRAINS  BLOCKS  ...  OVERALL_AVG_DELAY_TIME  THROUGHPUT\n",
              "0       1.0     1.0  ...                   54.16         1.0\n",
              "1       1.0     2.0  ...                   54.15         1.0\n",
              "2       1.0     3.0  ...                   54.16         1.0\n",
              "3       1.0     4.0  ...                   54.16         1.0\n",
              "4       1.0     5.0  ...                   54.15         1.0\n",
              "..      ...     ...  ...                     ...         ...\n",
              "247    18.0    10.0  ...                   54.64        18.0\n",
              "248    18.0    11.0  ...                   54.66        18.0\n",
              "249    18.0    12.0  ...                   54.63        18.0\n",
              "250    18.0    13.0  ...                   54.59        18.0\n",
              "251    18.0    14.0  ...                   54.65        18.0\n",
              "\n",
              "[252 rows x 5 columns]"
            ]
          },
          "metadata": {
            "tags": []
          },
          "execution_count": 55
        }
      ]
    },
    {
      "cell_type": "code",
      "metadata": {
        "id": "rcylRPqA-Kqe",
        "colab_type": "code",
        "colab": {
          "base_uri": "https://localhost:8080/",
          "height": 80
        },
        "outputId": "71b0ba64-9579-4b27-a827-58135b191a69"
      },
      "source": [
        "optimal[optimal.OVERALL_AVG_DELAY_TIME == optimal.OVERALL_AVG_DELAY_TIME.min()]"
      ],
      "execution_count": null,
      "outputs": [
        {
          "output_type": "execute_result",
          "data": {
            "text/html": [
              "<div>\n",
              "<style scoped>\n",
              "    .dataframe tbody tr th:only-of-type {\n",
              "        vertical-align: middle;\n",
              "    }\n",
              "\n",
              "    .dataframe tbody tr th {\n",
              "        vertical-align: top;\n",
              "    }\n",
              "\n",
              "    .dataframe thead th {\n",
              "        text-align: right;\n",
              "    }\n",
              "</style>\n",
              "<table border=\"1\" class=\"dataframe\">\n",
              "  <thead>\n",
              "    <tr style=\"text-align: right;\">\n",
              "      <th></th>\n",
              "      <th>TRAINS</th>\n",
              "      <th>BLOCKS</th>\n",
              "      <th>OVERALL_AVG_TRAVEL_TIME</th>\n",
              "      <th>OVERALL_AVG_DELAY_TIME</th>\n",
              "      <th>THROUGHPUT</th>\n",
              "    </tr>\n",
              "  </thead>\n",
              "  <tbody>\n",
              "    <tr>\n",
              "      <th>131</th>\n",
              "      <td>10.0</td>\n",
              "      <td>6.0</td>\n",
              "      <td>1958.58</td>\n",
              "      <td>54.01</td>\n",
              "      <td>10.0</td>\n",
              "    </tr>\n",
              "  </tbody>\n",
              "</table>\n",
              "</div>"
            ],
            "text/plain": [
              "     TRAINS  BLOCKS  ...  OVERALL_AVG_DELAY_TIME  THROUGHPUT\n",
              "131    10.0     6.0  ...                   54.01        10.0\n",
              "\n",
              "[1 rows x 5 columns]"
            ]
          },
          "metadata": {
            "tags": []
          },
          "execution_count": 56
        }
      ]
    },
    {
      "cell_type": "markdown",
      "metadata": {
        "id": "53eDs7keSZCd",
        "colab_type": "text"
      },
      "source": [
        "Distribution of Delay Times"
      ]
    },
    {
      "cell_type": "code",
      "metadata": {
        "id": "22aM_Q7PSdIP",
        "colab_type": "code",
        "colab": {
          "base_uri": "https://localhost:8080/",
          "height": 420
        },
        "outputId": "8ed70391-5037-4e56-e87d-6489fd1730a2"
      },
      "source": [
        "ax = optimal[['OVERALL_AVG_DELAY_TIME']].plot(kind='bar', title =\"Delay time for each train\", figsize=(12, 6), legend=True, fontsize=12)\n",
        "ax.set_xlabel(\"Train\", fontsize=12)\n",
        "ax.set_ylabel(\"Delay Duration\", fontsize=12)\n",
        "plt.show()"
      ],
      "execution_count": null,
      "outputs": [
        {
          "output_type": "display_data",
          "data": {
            "image/png": "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\n",
            "text/plain": [
              "<Figure size 864x432 with 1 Axes>"
            ]
          },
          "metadata": {
            "tags": [],
            "needs_background": "light"
          }
        }
      ]
    },
    {
      "cell_type": "markdown",
      "metadata": {
        "id": "MCyLEmubP4sI",
        "colab_type": "text"
      },
      "source": [
        "Train Schedules from London Old Oak to Birmingham Exchange with first train departing London Oak Station at 7 am and last train departing at 10 pm"
      ]
    },
    {
      "cell_type": "code",
      "metadata": {
        "id": "DzRVXuYYPrfR",
        "colab_type": "code",
        "colab": {
          "base_uri": "https://localhost:8080/",
          "height": 1000
        },
        "outputId": "5af2c8b7-26d0-485e-e65e-a54fafd3bdec"
      },
      "source": [
        "m_train"
      ],
      "execution_count": null,
      "outputs": [
        {
          "output_type": "execute_result",
          "data": {
            "text/html": [
              "<div>\n",
              "<style scoped>\n",
              "    .dataframe tbody tr th:only-of-type {\n",
              "        vertical-align: middle;\n",
              "    }\n",
              "\n",
              "    .dataframe tbody tr th {\n",
              "        vertical-align: top;\n",
              "    }\n",
              "\n",
              "    .dataframe thead th {\n",
              "        text-align: right;\n",
              "    }\n",
              "</style>\n",
              "<table border=\"1\" class=\"dataframe\">\n",
              "  <thead>\n",
              "    <tr style=\"text-align: right;\">\n",
              "      <th></th>\n",
              "      <th>TRAIN</th>\n",
              "      <th>STATUS</th>\n",
              "      <th>STATION</th>\n",
              "      <th>TIME</th>\n",
              "    </tr>\n",
              "  </thead>\n",
              "  <tbody>\n",
              "    <tr>\n",
              "      <th>0</th>\n",
              "      <td>1</td>\n",
              "      <td>DEPARTED</td>\n",
              "      <td>LONDON OLD OAK</td>\n",
              "      <td>07:00:14</td>\n",
              "    </tr>\n",
              "    <tr>\n",
              "      <th>1</th>\n",
              "      <td>2</td>\n",
              "      <td>DEPARTED</td>\n",
              "      <td>LONDON OLD OAK</td>\n",
              "      <td>07:05:21</td>\n",
              "    </tr>\n",
              "    <tr>\n",
              "      <th>2</th>\n",
              "      <td>3</td>\n",
              "      <td>DEPARTED</td>\n",
              "      <td>LONDON OLD OAK</td>\n",
              "      <td>07:10:31</td>\n",
              "    </tr>\n",
              "    <tr>\n",
              "      <th>3</th>\n",
              "      <td>4</td>\n",
              "      <td>DEPARTED</td>\n",
              "      <td>LONDON OLD OAK</td>\n",
              "      <td>07:15:47</td>\n",
              "    </tr>\n",
              "    <tr>\n",
              "      <th>4</th>\n",
              "      <td>5</td>\n",
              "      <td>DEPARTED</td>\n",
              "      <td>LONDON OLD OAK</td>\n",
              "      <td>07:20:52</td>\n",
              "    </tr>\n",
              "    <tr>\n",
              "      <th>5</th>\n",
              "      <td>6</td>\n",
              "      <td>DEPARTED</td>\n",
              "      <td>LONDON OLD OAK</td>\n",
              "      <td>07:26:00</td>\n",
              "    </tr>\n",
              "    <tr>\n",
              "      <th>6</th>\n",
              "      <td>7</td>\n",
              "      <td>DEPARTED</td>\n",
              "      <td>LONDON OLD OAK</td>\n",
              "      <td>07:31:11</td>\n",
              "    </tr>\n",
              "    <tr>\n",
              "      <th>7</th>\n",
              "      <td>1</td>\n",
              "      <td>ARRIVED</td>\n",
              "      <td>BIRMINGHAM INTERCHANGE</td>\n",
              "      <td>07:32:27</td>\n",
              "    </tr>\n",
              "    <tr>\n",
              "      <th>8</th>\n",
              "      <td>8</td>\n",
              "      <td>DEPARTED</td>\n",
              "      <td>LONDON OLD OAK</td>\n",
              "      <td>07:36:30</td>\n",
              "    </tr>\n",
              "    <tr>\n",
              "      <th>9</th>\n",
              "      <td>2</td>\n",
              "      <td>ARRIVED</td>\n",
              "      <td>BIRMINGHAM INTERCHANGE</td>\n",
              "      <td>07:37:31</td>\n",
              "    </tr>\n",
              "    <tr>\n",
              "      <th>10</th>\n",
              "      <td>9</td>\n",
              "      <td>DEPARTED</td>\n",
              "      <td>LONDON OLD OAK</td>\n",
              "      <td>07:41:33</td>\n",
              "    </tr>\n",
              "    <tr>\n",
              "      <th>11</th>\n",
              "      <td>3</td>\n",
              "      <td>ARRIVED</td>\n",
              "      <td>BIRMINGHAM INTERCHANGE</td>\n",
              "      <td>07:42:41</td>\n",
              "    </tr>\n",
              "    <tr>\n",
              "      <th>12</th>\n",
              "      <td>10</td>\n",
              "      <td>DEPARTED</td>\n",
              "      <td>LONDON OLD OAK</td>\n",
              "      <td>07:46:43</td>\n",
              "    </tr>\n",
              "    <tr>\n",
              "      <th>13</th>\n",
              "      <td>4</td>\n",
              "      <td>ARRIVED</td>\n",
              "      <td>BIRMINGHAM INTERCHANGE</td>\n",
              "      <td>07:48:03</td>\n",
              "    </tr>\n",
              "    <tr>\n",
              "      <th>14</th>\n",
              "      <td>11</td>\n",
              "      <td>DEPARTED</td>\n",
              "      <td>LONDON OLD OAK</td>\n",
              "      <td>07:51:57</td>\n",
              "    </tr>\n",
              "    <tr>\n",
              "      <th>15</th>\n",
              "      <td>5</td>\n",
              "      <td>ARRIVED</td>\n",
              "      <td>BIRMINGHAM INTERCHANGE</td>\n",
              "      <td>07:53:03</td>\n",
              "    </tr>\n",
              "    <tr>\n",
              "      <th>16</th>\n",
              "      <td>12</td>\n",
              "      <td>DEPARTED</td>\n",
              "      <td>LONDON OLD OAK</td>\n",
              "      <td>07:57:00</td>\n",
              "    </tr>\n",
              "    <tr>\n",
              "      <th>17</th>\n",
              "      <td>6</td>\n",
              "      <td>ARRIVED</td>\n",
              "      <td>BIRMINGHAM INTERCHANGE</td>\n",
              "      <td>07:58:09</td>\n",
              "    </tr>\n",
              "    <tr>\n",
              "      <th>18</th>\n",
              "      <td>13</td>\n",
              "      <td>DEPARTED</td>\n",
              "      <td>LONDON OLD OAK</td>\n",
              "      <td>08:02:17</td>\n",
              "    </tr>\n",
              "    <tr>\n",
              "      <th>19</th>\n",
              "      <td>7</td>\n",
              "      <td>ARRIVED</td>\n",
              "      <td>BIRMINGHAM INTERCHANGE</td>\n",
              "      <td>08:03:21</td>\n",
              "    </tr>\n",
              "    <tr>\n",
              "      <th>20</th>\n",
              "      <td>14</td>\n",
              "      <td>DEPARTED</td>\n",
              "      <td>LONDON OLD OAK</td>\n",
              "      <td>08:07:23</td>\n",
              "    </tr>\n",
              "    <tr>\n",
              "      <th>21</th>\n",
              "      <td>8</td>\n",
              "      <td>ARRIVED</td>\n",
              "      <td>BIRMINGHAM INTERCHANGE</td>\n",
              "      <td>08:08:49</td>\n",
              "    </tr>\n",
              "    <tr>\n",
              "      <th>22</th>\n",
              "      <td>15</td>\n",
              "      <td>DEPARTED</td>\n",
              "      <td>LONDON OLD OAK</td>\n",
              "      <td>08:12:37</td>\n",
              "    </tr>\n",
              "    <tr>\n",
              "      <th>23</th>\n",
              "      <td>9</td>\n",
              "      <td>ARRIVED</td>\n",
              "      <td>BIRMINGHAM INTERCHANGE</td>\n",
              "      <td>08:13:45</td>\n",
              "    </tr>\n",
              "    <tr>\n",
              "      <th>24</th>\n",
              "      <td>16</td>\n",
              "      <td>DEPARTED</td>\n",
              "      <td>LONDON OLD OAK</td>\n",
              "      <td>08:17:44</td>\n",
              "    </tr>\n",
              "    <tr>\n",
              "      <th>25</th>\n",
              "      <td>10</td>\n",
              "      <td>ARRIVED</td>\n",
              "      <td>BIRMINGHAM INTERCHANGE</td>\n",
              "      <td>08:18:55</td>\n",
              "    </tr>\n",
              "    <tr>\n",
              "      <th>26</th>\n",
              "      <td>17</td>\n",
              "      <td>DEPARTED</td>\n",
              "      <td>LONDON OLD OAK</td>\n",
              "      <td>08:22:58</td>\n",
              "    </tr>\n",
              "    <tr>\n",
              "      <th>27</th>\n",
              "      <td>11</td>\n",
              "      <td>ARRIVED</td>\n",
              "      <td>BIRMINGHAM INTERCHANGE</td>\n",
              "      <td>08:24:13</td>\n",
              "    </tr>\n",
              "    <tr>\n",
              "      <th>28</th>\n",
              "      <td>18</td>\n",
              "      <td>DEPARTED</td>\n",
              "      <td>LONDON OLD OAK</td>\n",
              "      <td>08:28:01</td>\n",
              "    </tr>\n",
              "    <tr>\n",
              "      <th>29</th>\n",
              "      <td>12</td>\n",
              "      <td>ARRIVED</td>\n",
              "      <td>BIRMINGHAM INTERCHANGE</td>\n",
              "      <td>08:29:09</td>\n",
              "    </tr>\n",
              "    <tr>\n",
              "      <th>30</th>\n",
              "      <td>13</td>\n",
              "      <td>ARRIVED</td>\n",
              "      <td>BIRMINGHAM INTERCHANGE</td>\n",
              "      <td>08:34:33</td>\n",
              "    </tr>\n",
              "    <tr>\n",
              "      <th>31</th>\n",
              "      <td>14</td>\n",
              "      <td>ARRIVED</td>\n",
              "      <td>BIRMINGHAM INTERCHANGE</td>\n",
              "      <td>08:39:35</td>\n",
              "    </tr>\n",
              "    <tr>\n",
              "      <th>32</th>\n",
              "      <td>15</td>\n",
              "      <td>ARRIVED</td>\n",
              "      <td>BIRMINGHAM INTERCHANGE</td>\n",
              "      <td>08:44:53</td>\n",
              "    </tr>\n",
              "    <tr>\n",
              "      <th>33</th>\n",
              "      <td>16</td>\n",
              "      <td>ARRIVED</td>\n",
              "      <td>BIRMINGHAM INTERCHANGE</td>\n",
              "      <td>08:49:57</td>\n",
              "    </tr>\n",
              "    <tr>\n",
              "      <th>34</th>\n",
              "      <td>17</td>\n",
              "      <td>ARRIVED</td>\n",
              "      <td>BIRMINGHAM INTERCHANGE</td>\n",
              "      <td>08:55:15</td>\n",
              "    </tr>\n",
              "    <tr>\n",
              "      <th>35</th>\n",
              "      <td>18</td>\n",
              "      <td>ARRIVED</td>\n",
              "      <td>BIRMINGHAM INTERCHANGE</td>\n",
              "      <td>09:00:11</td>\n",
              "    </tr>\n",
              "  </tbody>\n",
              "</table>\n",
              "</div>"
            ],
            "text/plain": [
              "   TRAIN    STATUS                 STATION      TIME\n",
              "0      1  DEPARTED          LONDON OLD OAK  07:00:14\n",
              "1      2  DEPARTED          LONDON OLD OAK  07:05:21\n",
              "2      3  DEPARTED          LONDON OLD OAK  07:10:31\n",
              "3      4  DEPARTED          LONDON OLD OAK  07:15:47\n",
              "4      5  DEPARTED          LONDON OLD OAK  07:20:52\n",
              "5      6  DEPARTED          LONDON OLD OAK  07:26:00\n",
              "6      7  DEPARTED          LONDON OLD OAK  07:31:11\n",
              "7      1   ARRIVED  BIRMINGHAM INTERCHANGE  07:32:27\n",
              "8      8  DEPARTED          LONDON OLD OAK  07:36:30\n",
              "9      2   ARRIVED  BIRMINGHAM INTERCHANGE  07:37:31\n",
              "10     9  DEPARTED          LONDON OLD OAK  07:41:33\n",
              "11     3   ARRIVED  BIRMINGHAM INTERCHANGE  07:42:41\n",
              "12    10  DEPARTED          LONDON OLD OAK  07:46:43\n",
              "13     4   ARRIVED  BIRMINGHAM INTERCHANGE  07:48:03\n",
              "14    11  DEPARTED          LONDON OLD OAK  07:51:57\n",
              "15     5   ARRIVED  BIRMINGHAM INTERCHANGE  07:53:03\n",
              "16    12  DEPARTED          LONDON OLD OAK  07:57:00\n",
              "17     6   ARRIVED  BIRMINGHAM INTERCHANGE  07:58:09\n",
              "18    13  DEPARTED          LONDON OLD OAK  08:02:17\n",
              "19     7   ARRIVED  BIRMINGHAM INTERCHANGE  08:03:21\n",
              "20    14  DEPARTED          LONDON OLD OAK  08:07:23\n",
              "21     8   ARRIVED  BIRMINGHAM INTERCHANGE  08:08:49\n",
              "22    15  DEPARTED          LONDON OLD OAK  08:12:37\n",
              "23     9   ARRIVED  BIRMINGHAM INTERCHANGE  08:13:45\n",
              "24    16  DEPARTED          LONDON OLD OAK  08:17:44\n",
              "25    10   ARRIVED  BIRMINGHAM INTERCHANGE  08:18:55\n",
              "26    17  DEPARTED          LONDON OLD OAK  08:22:58\n",
              "27    11   ARRIVED  BIRMINGHAM INTERCHANGE  08:24:13\n",
              "28    18  DEPARTED          LONDON OLD OAK  08:28:01\n",
              "29    12   ARRIVED  BIRMINGHAM INTERCHANGE  08:29:09\n",
              "30    13   ARRIVED  BIRMINGHAM INTERCHANGE  08:34:33\n",
              "31    14   ARRIVED  BIRMINGHAM INTERCHANGE  08:39:35\n",
              "32    15   ARRIVED  BIRMINGHAM INTERCHANGE  08:44:53\n",
              "33    16   ARRIVED  BIRMINGHAM INTERCHANGE  08:49:57\n",
              "34    17   ARRIVED  BIRMINGHAM INTERCHANGE  08:55:15\n",
              "35    18   ARRIVED  BIRMINGHAM INTERCHANGE  09:00:11"
            ]
          },
          "metadata": {
            "tags": []
          },
          "execution_count": 57
        }
      ]
    },
    {
      "cell_type": "code",
      "metadata": {
        "id": "ClkHn776UXOP",
        "colab_type": "code",
        "colab": {
          "base_uri": "https://localhost:8080/",
          "height": 499
        },
        "outputId": "fc45304f-79c4-4f48-f13e-3fed942a376e"
      },
      "source": [
        "# Travel Optimization\n",
        "simulation_data = optimal\n",
        "pd.options.mode.chained_assignment = None\n",
        " \n",
        "import statsmodels.api as sm\n",
        "from sklearn.linear_model import LinearRegression\n",
        "import numpy as np\n",
        "pd.options.mode.chained_assignment = None\n",
        "target = pd.DataFrame(simulation_data['OVERALL_AVG_DELAY_TIME'])\n",
        "predictor = pd.DataFrame(simulation_data[['BLOCKS', 'TRAINS']])\n",
        "predictor = sm.add_constant(predictor)\n",
        " \n",
        "model = sm.OLS(target, predictor).fit()\n",
        "predictions = model.predict(predictor)\n",
        "model.summary()"
      ],
      "execution_count": null,
      "outputs": [
        {
          "output_type": "stream",
          "text": [
            "/usr/local/lib/python3.6/dist-packages/statsmodels/tools/_testing.py:19: FutureWarning: pandas.util.testing is deprecated. Use the functions in the public API at pandas.testing instead.\n",
            "  import pandas.util.testing as tm\n"
          ],
          "name": "stderr"
        },
        {
          "output_type": "execute_result",
          "data": {
            "text/html": [
              "<table class=\"simpletable\">\n",
              "<caption>OLS Regression Results</caption>\n",
              "<tr>\n",
              "  <th>Dep. Variable:</th>    <td>OVERALL_AVG_DELAY_TIME</td> <th>  R-squared:         </th> <td>   0.535</td>\n",
              "</tr>\n",
              "<tr>\n",
              "  <th>Model:</th>                      <td>OLS</td>          <th>  Adj. R-squared:    </th> <td>   0.531</td>\n",
              "</tr>\n",
              "<tr>\n",
              "  <th>Method:</th>                <td>Least Squares</td>     <th>  F-statistic:       </th> <td>   143.0</td>\n",
              "</tr>\n",
              "<tr>\n",
              "  <th>Date:</th>                <td>Tue, 25 Aug 2020</td>    <th>  Prob (F-statistic):</th> <td>4.37e-42</td>\n",
              "</tr>\n",
              "<tr>\n",
              "  <th>Time:</th>                    <td>01:37:25</td>        <th>  Log-Likelihood:    </th> <td>  157.15</td>\n",
              "</tr>\n",
              "<tr>\n",
              "  <th>No. Observations:</th>         <td>   252</td>         <th>  AIC:               </th> <td>  -308.3</td>\n",
              "</tr>\n",
              "<tr>\n",
              "  <th>Df Residuals:</th>             <td>   249</td>         <th>  BIC:               </th> <td>  -297.7</td>\n",
              "</tr>\n",
              "<tr>\n",
              "  <th>Df Model:</th>                 <td>     2</td>         <th>                     </th>     <td> </td>   \n",
              "</tr>\n",
              "<tr>\n",
              "  <th>Covariance Type:</th>         <td>nonrobust</td>       <th>                     </th>     <td> </td>   \n",
              "</tr>\n",
              "</table>\n",
              "<table class=\"simpletable\">\n",
              "<tr>\n",
              "     <td></td>       <th>coef</th>     <th>std err</th>      <th>t</th>      <th>P>|t|</th>  <th>[0.025</th>    <th>0.975]</th>  \n",
              "</tr>\n",
              "<tr>\n",
              "  <th>const</th>  <td>   54.0454</td> <td>    0.023</td> <td> 2352.195</td> <td> 0.000</td> <td>   54.000</td> <td>   54.091</td>\n",
              "</tr>\n",
              "<tr>\n",
              "  <th>BLOCKS</th> <td>    0.0011</td> <td>    0.002</td> <td>    0.546</td> <td> 0.586</td> <td>   -0.003</td> <td>    0.005</td>\n",
              "</tr>\n",
              "<tr>\n",
              "  <th>TRAINS</th> <td>    0.0268</td> <td>    0.002</td> <td>   16.904</td> <td> 0.000</td> <td>    0.024</td> <td>    0.030</td>\n",
              "</tr>\n",
              "</table>\n",
              "<table class=\"simpletable\">\n",
              "<tr>\n",
              "  <th>Omnibus:</th>       <td>26.800</td> <th>  Durbin-Watson:     </th> <td>   0.062</td>\n",
              "</tr>\n",
              "<tr>\n",
              "  <th>Prob(Omnibus):</th> <td> 0.000</td> <th>  Jarque-Bera (JB):  </th> <td>  33.283</td>\n",
              "</tr>\n",
              "<tr>\n",
              "  <th>Skew:</th>          <td>-0.889</td> <th>  Prob(JB):          </th> <td>5.93e-08</td>\n",
              "</tr>\n",
              "<tr>\n",
              "  <th>Kurtosis:</th>      <td> 2.918</td> <th>  Cond. No.          </th> <td>    36.6</td>\n",
              "</tr>\n",
              "</table><br/><br/>Warnings:<br/>[1] Standard Errors assume that the covariance matrix of the errors is correctly specified."
            ],
            "text/plain": [
              "<class 'statsmodels.iolib.summary.Summary'>\n",
              "\"\"\"\n",
              "                              OLS Regression Results                              \n",
              "==================================================================================\n",
              "Dep. Variable:     OVERALL_AVG_DELAY_TIME   R-squared:                       0.535\n",
              "Model:                                OLS   Adj. R-squared:                  0.531\n",
              "Method:                     Least Squares   F-statistic:                     143.0\n",
              "Date:                    Tue, 25 Aug 2020   Prob (F-statistic):           4.37e-42\n",
              "Time:                            01:37:25   Log-Likelihood:                 157.15\n",
              "No. Observations:                     252   AIC:                            -308.3\n",
              "Df Residuals:                         249   BIC:                            -297.7\n",
              "Df Model:                               2                                         \n",
              "Covariance Type:                nonrobust                                         \n",
              "==============================================================================\n",
              "                 coef    std err          t      P>|t|      [0.025      0.975]\n",
              "------------------------------------------------------------------------------\n",
              "const         54.0454      0.023   2352.195      0.000      54.000      54.091\n",
              "BLOCKS         0.0011      0.002      0.546      0.586      -0.003       0.005\n",
              "TRAINS         0.0268      0.002     16.904      0.000       0.024       0.030\n",
              "==============================================================================\n",
              "Omnibus:                       26.800   Durbin-Watson:                   0.062\n",
              "Prob(Omnibus):                  0.000   Jarque-Bera (JB):               33.283\n",
              "Skew:                          -0.889   Prob(JB):                     5.93e-08\n",
              "Kurtosis:                       2.918   Cond. No.                         36.6\n",
              "==============================================================================\n",
              "\n",
              "Warnings:\n",
              "[1] Standard Errors assume that the covariance matrix of the errors is correctly specified.\n",
              "\"\"\""
            ]
          },
          "metadata": {
            "tags": []
          },
          "execution_count": 58
        }
      ]
    },
    {
      "cell_type": "code",
      "metadata": {
        "id": "59c-N2e5U6kh",
        "colab_type": "code",
        "colab": {}
      },
      "source": [
        "#linear regression to find objective function\n",
        "import matplotlib as mpl\n",
        "import matplotlib.pyplot as plt\n",
        "import math\n",
        "import numpy as np\n",
        " \n",
        "def f(x,y):\n",
        "    return 54.0454 + 0.0011*x + 0.0268*y"
      ],
      "execution_count": null,
      "outputs": []
    },
    {
      "cell_type": "code",
      "metadata": {
        "id": "eE4rwAoHU7St",
        "colab_type": "code",
        "colab": {}
      },
      "source": [
        "#Monte Carlo optimization for minimising travel time\n",
        "import random\n",
        "random.seed(0)\n",
        " \n",
        "def monte_carlo(n, xmin=4, xmax=11, ymin=6, ymax=10):\n",
        "    x = [ random.randint(xmin, xmax) for i in range(n)]\n",
        "    y = [ random.randint(ymin, ymax) for i in range(n)]\n",
        "    xp = [ x[0] ]\n",
        "    yp = [ y[0] ]\n",
        "    fmin = f(xp[0], yp[0])\n",
        "    \n",
        "    for i in range(1, len(x)):\n",
        "        fi = f(x[i], y[i])\n",
        " \n",
        "        if fi < fmin:\n",
        "            xp += [x[i]]\n",
        "            yp += [y[i]]\n",
        "            fmin = fi\n",
        " \n",
        "        xs = np.linspace(xmin, xmax, 100)\n",
        "        ys = np.linspace(ymin, ymax, 100)\n",
        "        xx, yy = np.meshgrid(xs, ys)\n",
        "        z=f(xx, yy)\n",
        "        \n",
        "        fig, ax = plt.subplots(1, 1)\n",
        "        fig.set_figwidth(6)\n",
        "        fig.set_figheight(5)\n",
        "        cs = ax.contourf(xs, ys, z, 100)\n",
        "        fig.colorbar(cs, ax=ax)\n",
        "        \n",
        "        plt.scatter(x, y, c='red', marker='.')\n",
        "        plt.plot(xp, yp, c='red')\n",
        "        \n",
        "        return len(xp), xp[-1], yp[-1], f(xp[-1], yp[-1])"
      ],
      "execution_count": null,
      "outputs": []
    },
    {
      "cell_type": "code",
      "metadata": {
        "id": "M73mcLY4U_1z",
        "colab_type": "code",
        "colab": {
          "base_uri": "https://localhost:8080/",
          "height": 341
        },
        "outputId": "3a6a41c6-0561-4cc2-b735-03cb545f77a4"
      },
      "source": [
        "random.seed(41)\n",
        "monte_carlo(100)"
      ],
      "execution_count": null,
      "outputs": [
        {
          "output_type": "execute_result",
          "data": {
            "text/plain": [
              "(2, 9, 10, 54.3233)"
            ]
          },
          "metadata": {
            "tags": []
          },
          "execution_count": 62
        },
        {
          "output_type": "display_data",
          "data": {
            "image/png": "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\n",
            "text/plain": [
              "<Figure size 432x360 with 2 Axes>"
            ]
          },
          "metadata": {
            "tags": [],
            "needs_background": "light"
          }
        }
      ]
    },
    {
      "cell_type": "code",
      "metadata": {
        "id": "Prq1gkxFbfRN",
        "colab_type": "code",
        "colab": {
          "base_uri": "https://localhost:8080/",
          "height": 341
        },
        "outputId": "9aa69566-29f7-4093-e433-57ba089eab2a"
      },
      "source": [
        "random.seed(30)\n",
        "monte_carlo(100)"
      ],
      "execution_count": null,
      "outputs": [
        {
          "output_type": "execute_result",
          "data": {
            "text/plain": [
              "(2, 4, 9, 54.291)"
            ]
          },
          "metadata": {
            "tags": []
          },
          "execution_count": 63
        },
        {
          "output_type": "display_data",
          "data": {
            "image/png": "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\n",
            "text/plain": [
              "<Figure size 432x360 with 2 Axes>"
            ]
          },
          "metadata": {
            "tags": [],
            "needs_background": "light"
          }
        }
      ]
    },
    {
      "cell_type": "code",
      "metadata": {
        "id": "uK2u4l9Gbh0D",
        "colab_type": "code",
        "colab": {
          "base_uri": "https://localhost:8080/",
          "height": 341
        },
        "outputId": "bb988157-0fb1-47ba-deb2-6dcd558f7d26"
      },
      "source": [
        "random.seed(20)\n",
        "monte_carlo(100)"
      ],
      "execution_count": null,
      "outputs": [
        {
          "output_type": "execute_result",
          "data": {
            "text/plain": [
              "(2, 8, 6, 54.215)"
            ]
          },
          "metadata": {
            "tags": []
          },
          "execution_count": 64
        },
        {
          "output_type": "display_data",
          "data": {
            "image/png": "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\n",
            "text/plain": [
              "<Figure size 432x360 with 2 Axes>"
            ]
          },
          "metadata": {
            "tags": [],
            "needs_background": "light"
          }
        }
      ]
    },
    {
      "cell_type": "markdown",
      "metadata": {
        "id": "aYa0X79A9_gL",
        "colab_type": "text"
      },
      "source": [
        "## Conclusion:\n",
        "\n",
        "In this project, a simulation model was designed to run trains between the stations of London Old Oak and Birmingham Interchange, with signaling blocks. The train travel is simulated for an hour, with variabilities in travel time and delay sue to impact of bad weather, and passenger dwell time is introduced into the simulation process. Additionally, an incident of breakdown due to electric failure in the line for the 9 am train is also introduced into the model. The simulation experiment carried out concluded that 10 trains can be run in an hour between the stations, and the train in overall requires around 32-40 minutes to complete the entire journey. Optimization of the simulation model was carried out to maximize the frequency of trains per hour with a condition that the delay time of the train should not be more than half the scheduled time between the trains. And accordingly, the optimization carried out using optimal() function resulted in a maximum frequency of 10 trains, 6 signaling blocks, and a delay time of 54.01. Monte Carlo optimization was also carried out, which resulted in a maximum frequency of 10 trains, 9 signaling blocks, and a delay time of 54.251.\n",
        "\n",
        "\n"
      ]
    }
  ]
}
